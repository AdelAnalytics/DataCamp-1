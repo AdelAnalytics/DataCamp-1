{
 "cells": [
  {
   "cell_type": "markdown",
   "metadata": {},
   "source": [
    "# Software Engineering for Data Scientists in Python\n",
    "\n",
    "#### Course Description\n",
    "Data scientists can experience huge benefits by learning concepts from the field of software engineering, allowing them to more easily reutilize their code and share it with collaborators. In this course, you'll learn all about the important ideas of modularity, documentation, & automated testing, and you'll see how they can help you solve Data Science problems quicker and in a way that will make future you happy. You'll even get to use your acquired software engineering chops to write your very own Python package for performing text analytics."
   ]
  },
  {
   "cell_type": "code",
   "execution_count": 1,
   "metadata": {},
   "outputs": [],
   "source": [
    "# %load_ext pycodestyle_magic\n",
    "# %pycodestyle_on"
   ]
  },
  {
   "cell_type": "code",
   "execution_count": 2,
   "metadata": {},
   "outputs": [],
   "source": [
    "import numpy as np"
   ]
  },
  {
   "cell_type": "markdown",
   "metadata": {},
   "source": [
    "# 1. Software Engineering & Data Science\n",
    "\n",
    "Why should you as a Data Scientist care about Software Engineering concepts? Here we'll cover specific Software Engineering concepts and how these important ideas can revolutionize your Data Science workflow!"
   ]
  },
  {
   "cell_type": "markdown",
   "metadata": {},
   "source": [
    "### Using pycodestyle\n",
    "We saw earlier that pycodestyle can be run from the command line to check a file for PEP 8 compliance. Sometimes it's useful to run this kind of check from a Python script.\n",
    "\n",
    "In this exercise, you'll use pycodestyle's StyleGuide class to check multiple files for PEP 8 compliance. Both files accomplish the same task, but they differ greatly in formatting and readability. You can view the contents of the files by following their links below.\n",
    "\n",
    "#### Instructions\n",
    "\n",
    "- Import the pycodestyle package.\n",
    "- Create an instance of StyleGuide named style_checker.\n",
    "- There are two files that we'll be checking; they're named 'nay_pep8.py' and 'yay_pep8.py'. Pass a list containing these file names to our style_checker's check_files method.\n",
    "- print() the results of our style check to the console. Make sure to read the output!"
   ]
  },
  {
   "cell_type": "code",
   "execution_count": 3,
   "metadata": {},
   "outputs": [
    {
     "name": "stdout",
     "output_type": "stream",
     "text": [
      "data/nay_pep8.py:1:1: E265 block comment should start with '# '\n",
      "data/nay_pep8.py:2:6: E225 missing whitespace around operator\n",
      "data/nay_pep8.py:4:2: E131 continuation line unaligned for hanging indent\n",
      "data/nay_pep8.py:5:6: E131 continuation line unaligned for hanging indent\n",
      "data/nay_pep8.py:6:1: E122 continuation line missing indentation or outdented\n",
      "data/nay_pep8.py:7:1: E265 block comment should start with '# '\n",
      "data/nay_pep8.py:8:1: E402 module level import not at top of file\n",
      "data/nay_pep8.py:9:1: E265 block comment should start with '# '\n",
      "data/nay_pep8.py:10:1: E302 expected 2 blank lines, found 0\n",
      "data/nay_pep8.py:10:18: E231 missing whitespace after ','\n",
      "data/nay_pep8.py:11:2: E111 indentation is not a multiple of four\n",
      "data/nay_pep8.py:12:2: E111 indentation is not a multiple of four\n",
      "data/nay_pep8.py:14:1: E265 block comment should start with '# '\n",
      "data/nay_pep8.py:15:1: E305 expected 2 blank lines after class or function definition, found 1\n",
      "data/nay_pep8.py:16:11: E111 indentation is not a multiple of four\n",
      "data/nay_pep8.py:16:11: E117 over-indented\n",
      "data/nay_pep8.py:16:17: E225 missing whitespace around operator\n",
      "data/nay_pep8.py:16:32: E222 multiple spaces after operator\n",
      "data/nay_pep8.py:16:32: E251 unexpected spaces around keyword / parameter equals\n",
      "data/nay_pep8.py:16:38: E231 missing whitespace after ','\n",
      "data/nay_pep8.py:16:44: E221 multiple spaces before operator\n",
      "data/nay_pep8.py:16:44: E251 unexpected spaces around keyword / parameter equals\n",
      "data/nay_pep8.py:16:47: E251 unexpected spaces around keyword / parameter equals\n",
      "data/nay_pep8.py:17:11: E111 indentation is not a multiple of four\n",
      "data/nay_pep8.py:17:17: E201 whitespace after '('\n",
      "data/nay_pep8.py:17:25: E202 whitespace before ')'\n",
      "data/nay_pep8.py:17:27: W292 no newline at end of file\n",
      "data/yay_pep8.py:20:18: W292 no newline at end of file\n",
      "{'E265': \"block comment should start with '# '\", 'E131': 'continuation line unaligned for hanging indent', 'E122': 'continuation line missing indentation or outdented', 'E225': 'missing whitespace around operator', 'E402': 'module level import not at top of file', 'E302': 'expected 2 blank lines, found 0', 'E231': \"missing whitespace after ','\", 'E111': 'indentation is not a multiple of four', 'E305': 'expected 2 blank lines after class or function definition, found 1', 'E117': 'over-indented', 'E251': 'unexpected spaces around keyword / parameter equals', 'E222': 'multiple spaces after operator', 'E221': 'multiple spaces before operator', 'W292': 'no newline at end of file', 'E201': \"whitespace after '('\", 'E202': \"whitespace before ')'\"}\n"
     ]
    }
   ],
   "source": [
    "# Import needed package\n",
    "import pycodestyle\n",
    "\n",
    "# Create a StyleGuide instance\n",
    "style_checker = pycodestyle.StyleGuide()\n",
    "\n",
    "# Run PEP 8 check on multiple files\n",
    "result = style_checker.check_files(['data/nay_pep8.py', 'data/yay_pep8.py'])\n",
    "\n",
    "# Print result of PEP 8 style check\n",
    "print(result.messages)"
   ]
  },
  {
   "cell_type": "markdown",
   "metadata": {},
   "source": [
    "# 2. Writing a Python Module\n",
    "\n",
    "Become a fully fledged Python package developer by writing your first package! You'll learn how to structure and write Python code that you can be installed, used, and distributed just like famous packages such as NumPy and Pandas."
   ]
  },
  {
   "cell_type": "markdown",
   "metadata": {},
   "source": [
    "### Naming packages\n",
    "We covered the PEP 8 guidelines for naming packages. In this exercise, you'll use that knowledge to identify a package following the requirements.\n",
    "\n",
    "For additional reference, you can view the PEP 8 section on package naming here\n",
    "\n",
    "#### Instructions\n",
    "\n",
    "- The possible package names to import are the following: text_analyzer, textAnalyzer, TextAnalyzer, & \\__text_analyzer__.\n",
    "- import the package from the list above that follows the PEP 8 naming conventions."
   ]
  },
  {
   "cell_type": "code",
   "execution_count": 5,
   "metadata": {},
   "outputs": [],
   "source": [
    "# Import the package with a name that follows PEP 8\n",
    "import text_analyzer"
   ]
  },
  {
   "cell_type": "markdown",
   "metadata": {},
   "source": [
    "### Recognizing packages\n",
    "The structure of your directory tree is printed below. You'll be working in the file my_script.py that you can see in the tree.\n",
    "\n",
    "\n",
    "```\n",
    "recognizing_packages\n",
    "├── MY_PACKAGE\n",
    "│   └── _init_.py\n",
    "├── package\n",
    "│   └── __init__.py\n",
    "├── package_py\n",
    "│   └── __init__\n",
    "│       └── __init__.py\n",
    "├── py_package\n",
    "│   └── __init__.py\n",
    "├── pyackage\n",
    "│   └── init.py\n",
    "└── my_script.py\n",
    "```\n",
    "\n",
    "\n",
    "#### Instructions\n",
    "\n",
    "- Use the information from the context to identify the packages in the directory that follow the minimal structure.\n",
    "- import the two packages that follow the minimal package requirements.\n",
    "- Use help() to print information about each imported package."
   ]
  },
  {
   "cell_type": "code",
   "execution_count": 6,
   "metadata": {},
   "outputs": [
    {
     "data": {
      "text/plain": [
       "\u001b[1;31mType:\u001b[0m        module\n",
       "\u001b[1;31mString form:\u001b[0m <module 'package' from 'C:\\\\Users\\\\juanc\\\\OneDrive - Universidad de los andes\\\\Datacamp\\\\Python_Programmer_Track\\\\12 - Software Engineering for Data Scientists in Python\\\\Code\\\\package\\\\__init__.py'>\n",
       "\u001b[1;31mFile:\u001b[0m        c:\\users\\juanc\\onedrive - universidad de los andes\\datacamp\\python_programmer_track\\12 - software engineering for data scientists in python\\code\\package\\__init__.py\n",
       "\u001b[1;31mDocstring:\u001b[0m   <no docstring>\n"
      ]
     },
     "metadata": {},
     "output_type": "display_data"
    }
   ],
   "source": [
    "# Import local packages\n",
    "import py_package\n",
    "import package\n",
    "\n",
    "# View the help for each package\n",
    "package??"
   ]
  },
  {
   "cell_type": "code",
   "execution_count": 7,
   "metadata": {},
   "outputs": [
    {
     "data": {
      "text/plain": [
       "\u001b[1;31mType:\u001b[0m        module\n",
       "\u001b[1;31mString form:\u001b[0m <module 'py_package' from 'C:\\\\Users\\\\juanc\\\\OneDrive - Universidad de los andes\\\\Datacamp\\\\Python_Programmer_Track\\\\12 - Software Engineering for Data Scientists in Python\\\\Code\\\\py_package\\\\__init__.py'>\n",
       "\u001b[1;31mFile:\u001b[0m        c:\\users\\juanc\\onedrive - universidad de los andes\\datacamp\\python_programmer_track\\12 - software engineering for data scientists in python\\code\\py_package\\__init__.py\n",
       "\u001b[1;31mDocstring:\u001b[0m   <no docstring>\n"
      ]
     },
     "metadata": {},
     "output_type": "display_data"
    }
   ],
   "source": [
    "py_package??"
   ]
  },
  {
   "cell_type": "markdown",
   "metadata": {},
   "source": [
    "##### Many steps were made before creating de text_analyzer library\n",
    "\n",
    "### Using your package's new functionality\n",
    "You've now created some great functionality for text analysis to your package. In this exercise, you'll leverage your package to analyze some tweets written by DataCamp & DataCamp users.\n",
    "\n",
    "The object word_counts is loaded into your environment. It contains a list of Counter objects that contain word counts from a sample of DataCamp tweets.\n",
    "\n",
    "The structure you've created can be seen in the tree below. You'll be working in my_script.py.\n",
    "\n",
    "```\n",
    "working_dir\n",
    "├── text_analyzer\n",
    "│    ├── __init__.py\n",
    "│    ├── counter_utils.py\n",
    "└── my_script.py\n",
    "```\n",
    "\n",
    "#### Instructions\n",
    "\n",
    "- import your text_analyzer at the top of the script.\n",
    "- Use the sum_counters() function from text_analyzer to aggregate all the Counters in word_counts.\n",
    "- Use the plot_counter() function from text_analyzer to visualize the tweet's most used words while tweeting.\n"
   ]
  },
  {
   "cell_type": "code",
   "execution_count": 8,
   "metadata": {},
   "outputs": [],
   "source": [
    "from collections import Counter\n",
    "from data.word_counters import word_counts"
   ]
  },
  {
   "cell_type": "code",
   "execution_count": 9,
   "metadata": {},
   "outputs": [
    {
     "data": {
      "image/png": "[encoded data removed]",
      "text/plain": [
       "<Figure size 432x288 with 1 Axes>"
      ]
     },
     "metadata": {
      "needs_background": "light"
     },
     "output_type": "display_data"
    }
   ],
   "source": [
    "# Import local package\n",
    "import text_analyzer  # .counter_utils as text_analyzer\n",
    "\n",
    "# Sum word_counts using sum_counters from text_analyzer\n",
    "word_count_totals = text_analyzer.sum_counters(word_counts)\n",
    "\n",
    "# Plot word_count_totals using plot_counter from text_analyzer\n",
    "text_analyzer.plot_counter(word_count_totals)"
   ]
  },
  {
   "cell_type": "markdown",
   "metadata": {},
   "source": [
    "# 3. Utilizing Classes\n",
    "\n",
    "Object Oriented Programming is a staple of Python development. By leveraging classes and inheritance your Python package will become a much more powerful tool for your users."
   ]
  },
  {
   "cell_type": "code",
   "execution_count": 10,
   "metadata": {},
   "outputs": [],
   "source": [
    "datacamp_tweet = 'Basic linear regression example. #DataCamp #DataScience #Python #sklearn'"
   ]
  },
  {
   "cell_type": "code",
   "execution_count": 11,
   "metadata": {},
   "outputs": [
    {
     "name": "stdout",
     "output_type": "stream",
     "text": [
      "Basic linear regression example. #DataCamp #DataScience #Python #sklearn\n"
     ]
    }
   ],
   "source": [
    "# Import custom text_analyzer package\n",
    "import text_analyzer\n",
    "\n",
    "# Create an instance of Document with datacamp_tweet\n",
    "my_document = text_analyzer.Document(text=datacamp_tweet)\n",
    "\n",
    "# Print the text attribute of the Document instance\n",
    "print(my_document.text)"
   ]
  },
  {
   "cell_type": "code",
   "execution_count": 12,
   "metadata": {},
   "outputs": [
    {
     "data": {
      "text/plain": [
       "'Basic linear regression example. #DataCamp #DataScience #Python #sklearn'"
      ]
     },
     "execution_count": 12,
     "metadata": {},
     "output_type": "execute_result"
    }
   ],
   "source": [
    "my_document.text"
   ]
  },
  {
   "cell_type": "markdown",
   "metadata": {},
   "source": [
    "### Using your class's functionality\n",
    "You've now added additional functionality to your Document class's __init__ method that automatically processes text for your users. In this exercise, you'll act as one of those users to see the benefits of your hard work.\n",
    "\n",
    "The Document class has been loaded into your environment (complete with your new updates).\n",
    "\n",
    "#### Instructions\n",
    "\n",
    "Create a new Document instance from the datacamp_tweets data set loaded into your environment. The datacamp_tweets object is a single string containing hundreds of tweets written by DataCamp & DataCamp users.\n",
    "Print the first 5 tokens from datacamp_doc.\n",
    "Print the top 5 most common words that were calculated by the non-public _count_words() method automatically in the Document.__init__ method"
   ]
  },
  {
   "cell_type": "code",
   "execution_count": 13,
   "metadata": {},
   "outputs": [],
   "source": [
    "from text_analyzer import Document"
   ]
  },
  {
   "cell_type": "code",
   "execution_count": 14,
   "metadata": {},
   "outputs": [],
   "source": [
    "datacamp_tweets = open('data/datacamp_tweets.txt',  encoding=\"utf8\").read()"
   ]
  },
  {
   "cell_type": "code",
   "execution_count": 15,
   "metadata": {},
   "outputs": [
    {
     "name": "stdout",
     "output_type": "stream",
     "text": [
      "['[DataCamp]', 'Introduction', 'to', 'H', 'O']\n",
      "[('@DataCamp', 288), ('to', 263), ('the', 251), ('in', 163), ('a', 143)]\n"
     ]
    }
   ],
   "source": [
    "# create a new document instance from datacamp_tweets\n",
    "datacamp_doc = Document(text = datacamp_tweets)\n",
    "\n",
    "# print the first 5 tokens from datacamp_doc\n",
    "print(datacamp_doc.tokens[:5])\n",
    "\n",
    "# print the top 5 most used words in datacamp_doc\n",
    "print(datacamp_doc.word_counts.most_common(5))"
   ]
  },
  {
   "cell_type": "markdown",
   "metadata": {},
   "source": [
    "### Using your child class\n",
    "Thanks to the power of inheritance you were able to create a feature-rich, SocialMedia class based on its parent, Document. Let's see some of these features in action.\n",
    "\n",
    "Below is the full definition of SocialMedia for reference. Additionally, SocialMedia has been added to __init__.py for ease of use.\n",
    "\n",
    "```Python\n",
    "class SocialMedia(Document):\n",
    "    def __init__(self, text):\n",
    "        Document.__init__(self, text)\n",
    "        self.hashtag_counts = self._count_hashtags()\n",
    "        self.mention_counts = self._count_mentions()\n",
    "\n",
    "    def _count_hashtags(self):\n",
    "        # Filter attribute so only words starting with '#' remain\n",
    "        return filter_word_counts(self.word_counts, first_char='#')      \n",
    "\n",
    "    def _count_mentions(self):\n",
    "        # Filter attribute so only words starting with '@' remain\n",
    "        return filter_word_counts(self.word_counts, first_char='@')\n",
    "```\n",
    "\n",
    "#### Instructions\n",
    "- import your text_analyzer custom package.\n",
    "- Define dc_tweets as an instance of SocialMedia with the preloaded datacamp_tweets object as the text.\n",
    "- print the 5 most_common mentioned users in the data using the appropriate dc_tweets attribute.\n",
    "- Use text_analyzer's plot_counter() method to plot the most used hashtags in the data using the appropriate dc_tweets attribute."
   ]
  },
  {
   "cell_type": "code",
   "execution_count": 16,
   "metadata": {},
   "outputs": [
    {
     "name": "stdout",
     "output_type": "stream",
     "text": [
      "[('#Python', 33), ('#DataScience', 24), ('#DataFramed', 20), ('#datascience', 9), ('#rstats', 7)]\n"
     ]
    },
    {
     "data": {
      "image/png": "[encoded data removed]",
      "text/plain": [
       "<Figure size 432x288 with 1 Axes>"
      ]
     },
     "metadata": {
      "needs_background": "light"
     },
     "output_type": "display_data"
    }
   ],
   "source": [
    "# Import custom text_analyzer package\n",
    "from text_analyzer import SocialMedia\n",
    "\n",
    "# Create a SocialMedia instance with datacamp_tweets\n",
    "dc_tweets = SocialMedia(text=datacamp_tweets)\n",
    "\n",
    "# Print the top five most most mentioned users\n",
    "print(dc_tweets.hashtag_counts.most_common(5))\n",
    "\n",
    "# Plot the most used hashtags\n",
    "text_analyzer.plot_counter(dc_tweets.hashtag_counts)"
   ]
  },
  {
   "cell_type": "markdown",
   "metadata": {},
   "source": [
    "### Exploring with dir and help\n",
    "A new method has been added to the Document class. The method is a convenience wrapper around the plot_counter() function you wrote in an earlier exercise. In this exercise, you'll use dir() and help() to identify how to utilize the new method.\n",
    "\n",
    "#### Instructions\n",
    "\n",
    "- import the text_analyzer package.\n",
    "- Define my_doc as an instance of Document with the text stored in datacamp_tweets. datacamp_tweets has been pre-loaded in your environment.\n",
    "- Use dir to show all of my_doc's methods and attributes. What is the name of the new plot method from the resulting list."
   ]
  },
  {
   "cell_type": "code",
   "execution_count": 17,
   "metadata": {},
   "outputs": [
    {
     "name": "stdout",
     "output_type": "stream",
     "text": [
      "Help on method plot_counts in module text_analyzer.document:\n",
      "\n",
      "plot_counts(attribute='word_counts', n_most_common=5) method of text_analyzer.document.Document instance\n",
      "    Plot most common elements of a ``collections.Counter`` instance attribute\n",
      "    \n",
      "    :param attribute: name of ``Counter`` attribute to use as object to plot\n",
      "    :param n_most_common: number of elements to plot (using ``Counter.most_common()``)\n",
      "    :return: None; a plot is shown using matplotlib\n",
      "    \n",
      "    >>> doc = Document(\"duck duck goose is fun when you're the goose\")\n",
      "    >>> doc.plot_counts('word_counts', n_most_common=5)  # same as default call\n",
      "\n"
     ]
    },
    {
     "data": {
      "image/png": "[encoded data removed]",
      "text/plain": [
       "<Figure size 432x288 with 1 Axes>"
      ]
     },
     "metadata": {
      "needs_background": "light"
     },
     "output_type": "display_data"
    }
   ],
   "source": [
    "# Import needed package\n",
    "import text_analyzer\n",
    "\n",
    "# Create instance of document\n",
    "my_doc = text_analyzer.Document(datacamp_tweets)\n",
    "\n",
    "# Run help on my_doc's plot method\n",
    "help(my_doc.plot_counts)\n",
    "\n",
    "# Plot the word_counts of my_doc\n",
    "my_doc.plot_counts()"
   ]
  },
  {
   "cell_type": "markdown",
   "metadata": {},
   "source": [
    "### Using inherited methods\n",
    "You've now defined a Tweets class that's inherited methods from both Document and SocialMedia. In this exercise, you'll use inherited methods to visualize text from both tweets and retweets.\n",
    "\n",
    "Be aware that this is real data from Twitter and as such there is always a risk that it may contain profanity or other offensive content (in this exercise, and any following exercises that also use real Twitter data).\n",
    "\n",
    "#### Instructions \n",
    "- import your text_analyzer package.\n",
    "- Define my_tweets as an instance of Tweets using the datacamp_tweets data that has been pre-loaded into your environment.\n",
    "- Use the plot_counts() method to plot the top 'hashtag_counts'.\n",
    "- Make sure to check the documentation for my_tweets.plot_counts.\n",
    "- Use the plot_counts() method of the retweets attribute to plot the most used hashtags in the retweets subset of the data.\n"
   ]
  },
  {
   "cell_type": "code",
   "execution_count": 18,
   "metadata": {},
   "outputs": [
    {
     "data": {
      "image/png": "[encoded data removed]",
      "text/plain": [
       "<Figure size 432x288 with 1 Axes>"
      ]
     },
     "metadata": {
      "needs_background": "light"
     },
     "output_type": "display_data"
    }
   ],
   "source": [
    "# Import needed package\n",
    "import text_analyzer\n",
    "\n",
    "# Create instance of Tweets\n",
    "my_tweets = text_analyzer.Tweets(datacamp_tweets)\n",
    "\n",
    "# Plot the most used hashtags in the tweets\n",
    "my_tweets.plot_counts('hashtag_counts')"
   ]
  },
  {
   "cell_type": "code",
   "execution_count": 19,
   "metadata": {},
   "outputs": [],
   "source": [
    "# Plot the most used hashtags in the retweets\n",
    "# my_tweets.retweets.plot_counts('hashtag_counts')"
   ]
  },
  {
   "cell_type": "markdown",
   "metadata": {},
   "source": [
    "# 4. Maintainability\n",
    "\n",
    "You've now written a fully functional Python package for text analysis! To make maintaining your project as easy as possible we'll leverage best practices around concepts such as documentation and unit testing."
   ]
  },
  {
   "cell_type": "markdown",
   "metadata": {},
   "source": [
    "### Identifying good comments\n",
    "We learned about what characteristics make a 'good' comment. In this exercise, you'll apply this knowledge to identify a function that utilizes comment best practices.\n",
    "\n",
    "#### Instructions\n",
    "\n",
    "- print the text variable that has been pre-loaded into your environment.\n",
    "- print the result of calling the function with more useful commenting on text."
   ]
  },
  {
   "cell_type": "code",
   "execution_count": 20,
   "metadata": {},
   "outputs": [],
   "source": [
    "text = 'Our competitor pricing is $10.50 an inch. Our price is $125.00 a foot.'"
   ]
  },
  {
   "cell_type": "code",
   "execution_count": 21,
   "metadata": {},
   "outputs": [
    {
     "name": "stdout",
     "output_type": "stream",
     "text": [
      "Our competitor pricing is $10.50 an inch. Our price is $125.00 a foot.\n",
      "['$10.50', '$125.00']\n"
     ]
    }
   ],
   "source": [
    "import re\n",
    "\n",
    "def extract_0(text):\n",
    "    # match and extract dollar amounts from the text\n",
    "    return re.findall(r'\\$\\d+\\.\\d\\d', text)\n",
    "\n",
    "def extract_1(text):\n",
    "    # return all matches to regex pattern\n",
    "    return re.findall(r'\\$\\d+\\.\\d\\d', text)\n",
    "\n",
    "# Print the text\n",
    "print(text)\n",
    "\n",
    "# Print the results of the function with better commenting\n",
    "print(extract_0(text))"
   ]
  },
  {
   "cell_type": "markdown",
   "metadata": {},
   "source": [
    "### Identifying proper docstrings\n",
    "We covered how to write fully-fledged docstrings. Before writing one of your own, this exercise will help you practice by having you identify a properly formatted docstring.\n",
    "\n",
    "In this exercise, you'll be using the functions goldilocks(), rapunzel(), mary(), and sleeping_beauty() which have been loaded in your environment.\n",
    "\n",
    "#### Instructions \n",
    "\n",
    "- Run help() on each of the 4 functions to view their docstrings."
   ]
  },
  {
   "cell_type": "code",
   "execution_count": 22,
   "metadata": {},
   "outputs": [],
   "source": [
    "def goldilocks(bear=3):\n",
    "    \"\"\"\n",
    "    :param bear: which number bear's food are you trying to eat; valid numbers: [1, 2, 3]\n",
    "    :return: description of how the food's temperature is\n",
    "\n",
    "    >>> goldilocks(bear=1)\n",
    "    'too hot'\n",
    "    \"\"\"\n",
    "    if bear == 1:\n",
    "        return 'too hot'\n",
    "    elif bear == 2:\n",
    "        return 'too cold'\n",
    "    elif bear == 3:\n",
    "        return 'just right'\n",
    "    else:\n",
    "        ValueError('There are only 3 bears!')\n",
    "        \n",
    "        \n",
    "def rapunzel(hair_len=20):\n",
    "    \"\"\"Lets down hair from tower to be used as climbing rope\n",
    "\n",
    "    :param hair_len: length of hair (cannot be negative)\n",
    "    :return: strand of hair that is hair_len characters long\n",
    "\n",
    "    >>> rapunzel(hair_len=15)\n",
    "    '~~~~~~~~~~~~~~~'\n",
    "    \"\"\"\n",
    "    if hair_len < 0:\n",
    "        ValueError('hair_len cannot be negative!')\n",
    "\n",
    "    return \"~\" * hair_len\n",
    "\n",
    "\n",
    "def mary(white_as='snow'):\n",
    "    \"\"\"How white was mary's little lamb?\n",
    "\n",
    "    >>> mary(white_as='salt')\n",
    "    'Mary had a little lamb whose fleece was white as salt'\n",
    "    \"\"\"\n",
    "    return \"Mary had a little lamb whose fleece was white as {}\".format(white_as)\n",
    "\n",
    "\n",
    "def sleeping_beauty(awake=False):\n",
    "    \"\"\"Should Sleeping Beauty wake up?\n",
    "\n",
    "    :param awake: if True then wake up; else snooze\n",
    "    :return: string showing sleepiness or wakefulness\n",
    "    \"\"\"\n",
    "    if awake is True:\n",
    "        return 'o_o'\n",
    "\n",
    "    return 'Zzzzz'"
   ]
  },
  {
   "cell_type": "code",
   "execution_count": 23,
   "metadata": {},
   "outputs": [
    {
     "name": "stdout",
     "output_type": "stream",
     "text": [
      "~~~~~~~~~~~~~~~~~~~~\n"
     ]
    }
   ],
   "source": [
    "# Run the help on all 4 functions\n",
    "# help(goldilocks)\n",
    "# help(rapunzel)\n",
    "# help(mary)\n",
    "# help(sleeping_beauty)\n",
    "\n",
    "# Execute the function with most complete docstring\n",
    "result = rapunzel()\n",
    "\n",
    "# Print the result\n",
    "print(result)"
   ]
  },
  {
   "cell_type": "markdown",
   "metadata": {},
   "source": [
    "### Writing docstrings\n",
    "We just learned some about the benefits of docstrings. In this exercise, you will practice writing docstrings that can be utilized by a documentation generator like Sphinx.\n",
    "\n",
    "Note that your docstring submission must match the solution exactly. If you find yourself getting it wrong several times, it may be a good idea to refresh the sample code and start over.\n",
    "\n",
    "#### Instructions\n",
    "\n",
    "- Complete the portions of the docstring that document the parameters.\n",
    "- Complete the portion of the docstring describing the return value.\n",
    "- Complete the example function usage in the docstring."
   ]
  },
  {
   "cell_type": "code",
   "execution_count": 24,
   "metadata": {},
   "outputs": [
    {
     "name": "stdout",
     "output_type": "stream",
     "text": [
      "Help on function tokenize in module __main__:\n",
      "\n",
      "tokenize(text, regex='[a-zA-z]+')\n",
      "    Split text into tokens using a regular expression\n",
      "    \n",
      "    :param text: text to be tokenized\n",
      "    :param regex: regular expression used to match tokens using re.findall \n",
      "    :return: a list of resulting tokens\n",
      "    \n",
      "    >>> tokenize('the rain in spain')\n",
      "    ['the', 'rain', 'in', 'spain']\n",
      "\n"
     ]
    }
   ],
   "source": [
    "# Complete the function's docstring\n",
    "def tokenize(text, regex=r'[a-zA-z]+'):\n",
    "  \"\"\"Split text into tokens using a regular expression\n",
    "\n",
    "  :param text: text to be tokenized\n",
    "  :param regex: regular expression used to match tokens using re.findall \n",
    "  :return: a list of resulting tokens\n",
    "\n",
    "  >>> tokenize('the rain in spain')\n",
    "  ['the', 'rain', 'in', 'spain']\n",
    "  \"\"\"\n",
    "  return re.findall(regex, text, flags=re.IGNORECASE)\n",
    "\n",
    "# Print the docstring\n",
    "help(tokenize)"
   ]
  },
  {
   "cell_type": "markdown",
   "metadata": {},
   "source": [
    "### Using good function names\n",
    "A good function name can go a long way for both user and maintainer understanding. A good function name is descriptive and describes what a function does. In this exercise, you'll choose a name for a function that will help aid in its readability when used.\n",
    "\n",
    "#### Instructions\n",
    "\n",
    "- The math module has been pre-loaded into your environment to be able to use its sqrt function.\n",
    "- Give function the best possible name from the following options: do_stuff, hypotenuse_length, square_root_of_leg_a_squared_plus_leg_b_squared, pythagorean_theorem.\n",
    "- Complete the docstring's example with the function's name.\n",
    "- print the result of using the newly named function to find the length of the hypotenuse for a right triangle with legs of length 6 & 8."
   ]
  },
  {
   "cell_type": "code",
   "execution_count": 25,
   "metadata": {},
   "outputs": [],
   "source": [
    "import math"
   ]
  },
  {
   "cell_type": "code",
   "execution_count": 26,
   "metadata": {},
   "outputs": [
    {
     "name": "stdout",
     "output_type": "stream",
     "text": [
      "10.0\n"
     ]
    }
   ],
   "source": [
    "def hypotenuse_length(leg_a, leg_b):\n",
    "    \"\"\"Find the length of a right triangle's hypotenuse\n",
    "\n",
    "    :param leg_a: length of one leg of triangle\n",
    "    :param leg_b: length of other leg of triangle\n",
    "    :return: length of hypotenuse\n",
    "    \n",
    "    >>> hypotenuse_length(3, 4)\n",
    "    5.0\n",
    "    \"\"\"\n",
    "    return math.sqrt(leg_a**2 + leg_b**2)\n",
    "\n",
    "\n",
    "# Print the length of the hypotenuse with legs 6 & 8\n",
    "print(hypotenuse_length(6,8))"
   ]
  },
  {
   "cell_type": "markdown",
   "metadata": {},
   "source": [
    "### Using good variable names\n",
    "Just like functions, descriptive variable names can make your code much more readable. In this exercise, you'll write some code using good variable naming practices.\n",
    "\n",
    "There's not always a clear best name for a variable. The exercise has been written to try and make a clear best choice from the provided options.\n",
    "\n",
    "#### Instructions\n",
    "\n",
    "- Choose the best variable name to hold the sample of pupil diameter measurements in millimeters from the following choices: d, diameter, pupil_diameter, or pupil_diameter_in_millimeters.\n",
    "- Take the mean of the measurements and assign it to a variable. Choose the best variable name to hold this mean from the following options: m, mean, mean_diameter, or mean_pupil_diameter_in_millimeters.\n",
    "- Print the resulting average pupil diameter."
   ]
  },
  {
   "cell_type": "code",
   "execution_count": 27,
   "metadata": {},
   "outputs": [
    {
     "name": "stdout",
     "output_type": "stream",
     "text": [
      "5.04\n"
     ]
    }
   ],
   "source": [
    "from statistics import mean\n",
    "\n",
    "# Sample measurements of pupil diameter in mm\n",
    "pupil_diameter = [3.3, 6.8, 7.0, 5.4, 2.7]\n",
    "\n",
    "# Average pupil diameter from sample\n",
    "mean_diameter = mean(pupil_diameter)\n",
    "\n",
    "print(mean_diameter)\n"
   ]
  },
  {
   "cell_type": "markdown",
   "metadata": {},
   "source": [
    "### Refactoring for readability\n",
    "Refactoring longer functions into smaller units can help with both readability and modularity. In this exercise, you will refactor a function into smaller units. The function you will be refactoring is shown below. Note, in the exercise, you won't be using docstrings for the sake of space; in a real application, you should include documentation!\n",
    "\n",
    "```Python\n",
    "def polygon_area(n_sides, side_len):\n",
    "    \"\"\"Find the area of a regular polygon\n",
    "\n",
    "    :param n_sides: number of sides\n",
    "    :param side_len: length of polygon sides\n",
    "    :return: area of polygon\n",
    "\n",
    "    >>> round(polygon_area(4, 5))\n",
    "    25\n",
    "    \"\"\"\n",
    "    perimeter = n_sides * side_len\n",
    "\n",
    "    apothem_denominator = 2 * math.tan(math.pi / n_sides)\n",
    "    apothem = side_len / apothem_denominator\n",
    "\n",
    "    return perimeter * apothem / 2\n",
    "```\n",
    "\n",
    "\n",
    "#### Instructions\n",
    "\n",
    "- Move the logic for calculating the perimeter into the polygon_perimeter function.\n",
    "- Complete the definition of the polygon_apothem function, by moving the logic seen in the context. The math module has already been imported for you.\n",
    "- Utilize the new unit functions to complete the definition of polygon_area.\n",
    "- Use the more unitized polygon_area to calculate the area of a regular hexagon with legs of size 10."
   ]
  },
  {
   "cell_type": "code",
   "execution_count": 28,
   "metadata": {},
   "outputs": [
    {
     "name": "stdout",
     "output_type": "stream",
     "text": [
      "259.8076211353316\n"
     ]
    }
   ],
   "source": [
    "def polygon_perimeter(n_sides, side_len):\n",
    "    return n_sides * side_len\n",
    "\n",
    "def polygon_apothem(n_sides, side_len):\n",
    "    denominator = 2 * math.tan(math.pi / n_sides)\n",
    "    return side_len / denominator\n",
    "\n",
    "def polygon_area(n_sides, side_len):\n",
    "    perimeter = polygon_perimeter(n_sides, side_len)\n",
    "    apothem = polygon_apothem(n_sides, side_len)\n",
    "\n",
    "    return perimeter * apothem / 2\n",
    "\n",
    "# Print the area of a hexagon with legs of size 10\n",
    "print(polygon_area(n_sides=6, side_len=10))"
   ]
  },
  {
   "cell_type": "markdown",
   "metadata": {},
   "source": [
    "### Using doctest\n",
    "We just learned about doctest, which, if you're writing full docstrings with examples, is a simple way to minimally test your functions. In this exercise, you'll get some hands-on practice testing and debugging with doctest.\n",
    "\n",
    "The following have all be pre-loaded in your environment: doctest, Counter, and text_analyzer.\n",
    "\n",
    "Note that your docstring submission must match the solution exactly. If you find yourself getting it wrong several times, it may be a good idea to refresh the sample code and start over.\n",
    "\n",
    "#### Instructions\n",
    "\n",
    "- Complete the input code of the example in the docstring for sum_counters.\n",
    "- Complete the docstring example by filling in the expected output.\n",
    "- Run the testmod function from doctest to test your function's example code."
   ]
  },
  {
   "cell_type": "code",
   "execution_count": 29,
   "metadata": {},
   "outputs": [],
   "source": [
    "import doctest"
   ]
  },
  {
   "cell_type": "code",
   "execution_count": 30,
   "metadata": {},
   "outputs": [
    {
     "data": {
      "text/plain": [
       "TestResults(failed=0, attempted=8)"
      ]
     },
     "execution_count": 30,
     "metadata": {},
     "output_type": "execute_result"
    }
   ],
   "source": [
    "def sum_counters(counters):\n",
    "    \"\"\"Aggregate collections.Counter objects by summing counts\n",
    "\n",
    "    :param counters: list/tuple of counters to sum\n",
    "    :return: aggregated counters with counts summed\n",
    "\n",
    "    >>> d1 = text_analyzer.Document('1 2 fizz 4 buzz fizz 7 8')\n",
    "    >>> d2 = text_analyzer.Document('fizz buzz 11 fizz 13 14')\n",
    "    >>> sum_counters([d1.word_counts, d2.word_counts])\n",
    "    Counter({'fizz': 4, 'buzz': 2})\n",
    "    \"\"\"\n",
    "    return sum(counters, Counter())\n",
    "\n",
    "doctest.testmod()"
   ]
  },
  {
   "cell_type": "markdown",
   "metadata": {},
   "source": [
    "### Using pytest\n",
    "doctest is a great tool, but it's not nearly as powerful as pytest. In this exercise, you'll write tests for your SocialMedia class using the pytest framework.\n",
    "\n",
    "#### Instructions \n",
    "\n",
    "- import the SocialMedia class.\n",
    "- Complete the name of the test function so it is run by pytest.\n",
    "- Use the appropriate keyword to test that the hashtag_counts are as expected."
   ]
  },
  {
   "cell_type": "code",
   "execution_count": 31,
   "metadata": {},
   "outputs": [],
   "source": [
    "from collections import Counter\n",
    "from text_analyzer import SocialMedia\n",
    "\n",
    "# Create an instance of SocialMedia for testing\n",
    "test_post = 'learning #python & #rstats is awesome! thanks @datacamp!'\n",
    "sm_post = SocialMedia(test_post)\n",
    "\n",
    "# Test hashtag counts are created properly\n",
    "def test_social_media_hashtags():\n",
    "    expected_hashtag_counts = Counter({'#python': 1, '#rstats': 1})\n",
    "    assert sm_post.hashtag_counts == expected_hashtag_counts\n"
   ]
  }
 ],
 "metadata": {
  "kernelspec": {
   "display_name": "Python 3",
   "language": "python",
   "name": "python3"
  },
  "language_info": {
   "codemirror_mode": {
    "name": "ipython",
    "version": 3
   },
   "file_extension": ".py",
   "mimetype": "text/x-python",
   "name": "python",
   "nbconvert_exporter": "python",
   "pygments_lexer": "ipython3",
   "version": "3.7.6"
  }
 },
 "nbformat": 4,
 "nbformat_minor": 4
}
