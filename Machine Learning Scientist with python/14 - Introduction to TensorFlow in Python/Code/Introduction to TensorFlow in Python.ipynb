{
 "cells": [
  {
   "cell_type": "markdown",
   "metadata": {},
   "source": [
    "# Introduction to TensorFlow in Python\n",
    "#### Course Description\n",
    "Not long ago, cutting-edge computer vision algorithms couldn’t differentiate between images of cats and dogs. Today, a skilled data scientist equipped with nothing more than a laptop can classify tens of thousands of objects with greater accuracy than the human eye. In this course, you will use TensorFlow 2.1 to develop, train, and make predictions with the models that have powered major advances in recommendation systems, image classification, and FinTech. You will learn both high-level APIs, which will enable you to design and train deep learning models in 15 lines of code, and low-level APIs, which will allow you to move beyond off-the-shelf routines. You will also learn to accurately predict housing prices, credit card borrower defaults, and images of sign language gestures."
   ]
  },
  {
   "cell_type": "code",
   "execution_count": 1,
   "metadata": {},
   "outputs": [],
   "source": [
    "import tensorflow as tf\n",
    "from tensorflow import keras\n",
    "\n",
    "\n",
    "import numpy as np\n",
    "import pandas as pd\n",
    "import matplotlib.pyplot as plt\n",
    "\n",
    "constant = tf.constant"
   ]
  },
  {
   "cell_type": "markdown",
   "metadata": {},
   "source": [
    "# 1. Introduction to TensorFlow\n",
    "\n",
    "Before you can build advanced models in TensorFlow 2.0, you will first need to understand the basics. In this chapter, you’ll learn how to define constants and variables, perform tensor addition and multiplication, and compute derivatives. Knowledge of linear algebra will be helpful, but not necessary."
   ]
  },
  {
   "cell_type": "markdown",
   "metadata": {},
   "source": [
    "### Defining data as constants\n",
    "Throughout this course, we will use tensorflow version 2.1 and will exclusively import the submodules needed to complete each exercise. This will usually be done for you, but you will do it in this exercise by importing constant from tensorflow.\n",
    "\n",
    "After you have imported constant, you will use it to transform a numpy array, credit_numpy, into a tensorflow constant, credit_constant. This array contains feature columns from a dataset on credit card holders and is previewed in the image below. We will return to this dataset in later chapters.\n",
    "\n",
    "Note that tensorflow version 2.0 allows you to use data as either a numpy array or a tensorflow constant object. Using a constant will ensure that any operations performed with that object are done in tensorflow.\n",
    "\n",
    "This image shows four feature columns from a dataset on credit card default: education, marriage, age, and bill amount.\n",
    "\n",
    "#### Instructions\n",
    "\n",
    "- Import the constant submodule from the tensorflow module.\n",
    "- Convert the credit_numpy array into a constant object in tensorflow. Do not set the data type."
   ]
  },
  {
   "cell_type": "code",
   "execution_count": 2,
   "metadata": {},
   "outputs": [],
   "source": [
    "credit_numpy = pd.read_csv('data/uci_credit_card.csv').iloc[:,:4]\n",
    "credit_numpy = credit_numpy.to_numpy()\n"
   ]
  },
  {
   "cell_type": "code",
   "execution_count": 3,
   "metadata": {},
   "outputs": [
    {
     "name": "stdout",
     "output_type": "stream",
     "text": [
      "The datatype is: <dtype: 'float64'>\n",
      "The shape is: (30000, 4)\n"
     ]
    }
   ],
   "source": [
    "# Convert the credit_numpy array into a tensorflow constant\n",
    "credit_constant = constant(credit_numpy)\n",
    "\n",
    "# Print constant datatype\n",
    "print('The datatype is:', credit_constant.dtype)\n",
    "\n",
    "# Print constant shape\n",
    "print('The shape is:', credit_constant.shape)"
   ]
  },
  {
   "cell_type": "markdown",
   "metadata": {},
   "source": [
    "### Defining variables\n",
    "Unlike a constant, a variable's value can be modified. This will be quite useful when we want to train a model by updating its parameters. Constants can't be used for this purpose, so variables are the natural choice.\n",
    "\n",
    "Let's try defining and working with a variable. Note that Variable(), which is used to create a variable tensor, has been imported from tensorflow and is available to use in the exercise.\n",
    "\n",
    "#### Instructions\n",
    "\n",
    "- Define a variable, A1, as the 1-dimensional tensor: [1, 2, 3, 4].\n",
    "- Print A1. Do not use the .numpy() method. What did this tell you?\n",
    "- Apply .numpy() to A1 and assign it to B1.\n",
    "- Print B1. What did this tell you?"
   ]
  },
  {
   "cell_type": "code",
   "execution_count": 4,
   "metadata": {},
   "outputs": [
    {
     "name": "stdout",
     "output_type": "stream",
     "text": [
      "<tf.Variable 'Variable:0' shape=(4,) dtype=int32, numpy=array([1, 2, 3, 4])>\n",
      "[1 2 3 4]\n"
     ]
    }
   ],
   "source": [
    "Variable =  tf.Variable\n",
    "# Define the 1-dimensional variable A1\n",
    "A1 = Variable([1, 2, 3, 4])\n",
    "\n",
    "# Print the variable A1\n",
    "print(A1)\n",
    "\n",
    "# Convert A1 to a numpy array and assign it to B1\n",
    "B1 = A1.numpy()\n",
    "\n",
    "# Print B1\n",
    "print(B1)"
   ]
  },
  {
   "cell_type": "markdown",
   "metadata": {},
   "source": [
    "### Performing element-wise multiplication\n",
    "Element-wise multiplication in TensorFlow is performed using two tensors with identical shapes. This is because the operation multiplies elements in corresponding positions in the two tensors. An example of an element-wise multiplication, denoted by the ⊙ symbol, is shown below:\n",
    "\n",
    "$\n",
    "\\begin{bmatrix}\n",
    "1&2 \\\\ 2&1 \n",
    "\\end{bmatrix} \n",
    "\\odot\n",
    "\\begin{bmatrix}\n",
    "3&2 \\\\ 1&5\n",
    "\\end{bmatrix} = \n",
    "\\begin{bmatrix}\n",
    "3 & 4 \\\\ 2 & 5\n",
    "\\end{bmatrix} \n",
    "$\n",
    "\n",
    "In this exercise, you will perform element-wise multiplication, paying careful attention to the shape of the tensors you multiply. Note that multiply(), constant(), and ones_like() have been imported for you.\n",
    "\n",
    "### Instructions\n",
    "\n",
    "-  Define the tensors A1 and A23 as constants.\n",
    "-  Set B1 to be a tensor of ones with the same shape as A1.\n",
    "-  Set B23 to be a tensor of ones with the same shape as A23.\n",
    "-  Set C1 and C23 equal to the element-wise products of A1 and B1, and A23 and B23, respectively."
   ]
  },
  {
   "cell_type": "code",
   "execution_count": 5,
   "metadata": {},
   "outputs": [
    {
     "name": "stdout",
     "output_type": "stream",
     "text": [
      "C1: [1 2 3 4]\n",
      "C23: [[1 2 3]\n",
      " [1 6 4]]\n"
     ]
    }
   ],
   "source": [
    "# Define tensors A1 and A23 as constants\n",
    "A1 = constant([1, 2, 3, 4])\n",
    "A23 = constant([[1, 2, 3], [1, 6, 4]])\n",
    "\n",
    "# Define B1 and B23 to have the correct shape\n",
    "B1 = tf.ones_like(A1)\n",
    "B23 = tf.ones_like(A23)\n",
    "\n",
    "# Perform element-wise multiplication\n",
    "C1 = tf.multiply(A1,B1)\n",
    "C23 = tf.multiply(A23,B23)\n",
    "\n",
    "# Print the tensors C1 and C23\n",
    "print('C1: {}'.format(C1.numpy()))\n",
    "print('C23: {}'.format(C23.numpy()))"
   ]
  },
  {
   "cell_type": "markdown",
   "metadata": {},
   "source": [
    "### Making predictions with matrix multiplication\n",
    "In later chapters, you will learn to train linear regression models. This process will yield a vector of parameters that can be multiplied by the input data to generate predictions. In this exercise, you will use input data, features, and a target vector, bill, which are taken from a credit card dataset we will use later in the course.\n",
    "\n",
    "<img src=\"im1.JPG\" width=200 />\n",
    "\n",
    "The matrix of input data, features, contains two columns: education level and age. The target vector, bill, is the size of the credit card borrower's bill.\n",
    "\n",
    "Since we have not trained the model, you will enter a guess for the values of the parameter vector, params. You will then use matmul() to perform matrix multiplication of features by params to generate predictions, billpred, which you will compare with bill. Note that we have imported matmul() and constant().\n",
    "\n",
    "#### Instructions\n",
    "\n",
    "- Define features, params, and bill as constants.\n",
    "- Compute the predicted value vector, billpred, by multiplying the input data, features, by the parameters, params. Use matrix multiplication, rather than the element-wise product.\n",
    "- Define error as the targets, bill, minus the predicted values, billpred."
   ]
  },
  {
   "cell_type": "code",
   "execution_count": 6,
   "metadata": {},
   "outputs": [
    {
     "name": "stdout",
     "output_type": "stream",
     "text": [
      "[[-1687]\n",
      " [-3218]\n",
      " [-1933]\n",
      " [57850]]\n"
     ]
    }
   ],
   "source": [
    "# Define features, params, and bill as constants\n",
    "features = constant([[2, 24], [2, 26], [2, 57], [1, 37]])\n",
    "params = constant([[1000], [150]])\n",
    "bill = constant([[3913], [2682], [8617], [64400]])\n",
    "\n",
    "# Compute billpred using features and params\n",
    "billpred = tf.matmul(features,params)\n",
    "\n",
    "# Compute and print the error\n",
    "error = bill - billpred\n",
    "print(error.numpy())"
   ]
  },
  {
   "cell_type": "markdown",
   "metadata": {},
   "source": [
    "### Reshaping tensors\n",
    "Later in the course, you will classify images of sign language letters using a neural network. In some cases, the network will take 1-dimensional tensors as inputs, but your data will come in the form of images, which will either be either 2- or 3-dimensional tensors, depending on whether they are grayscale or color images.\n",
    "\n",
    "The figure below shows grayscale and color images of the sign language letter A. The two images have been imported for you and converted to the numpy arrays gray_tensor and color_tensor. Reshape these arrays into 1-dimensional vectors using the reshape operation, which has been imported for you from tensorflow. Note that the shape of gray_tensor is 28x28 and the shape of color_tensor is 28x28x3.\n",
    "\n",
    "This figure shows grayscale and color images of the sign language letter \"A\".\n",
    "\n",
    "#### Instructions\n",
    "\n",
    "- Reshape gray_tensor from a 28x28 matrix into a 784x1 vector named gray_vector.\n",
    "- Reshape color_tensor from a 28x28x3 tensor into a 2352x1 vector named color_vector."
   ]
  },
  {
   "cell_type": "code",
   "execution_count": 7,
   "metadata": {},
   "outputs": [],
   "source": [
    "from arrays import *"
   ]
  },
  {
   "cell_type": "code",
   "execution_count": 8,
   "metadata": {},
   "outputs": [],
   "source": [
    "# Reshape the grayscale image tensor into a vector\n",
    "gray_vector = tf.reshape(gray_tensor, (784, 1))\n",
    "\n",
    "# Reshape the color image tensor into a vector\n",
    "color_vector = tf.reshape(color_tensor, (2352, 1))"
   ]
  },
  {
   "attachments": {
    "gradient_plot.png": {
     "image/png": "[encoded data removed]"
    }
   },
   "cell_type": "markdown",
   "metadata": {},
   "source": [
    "### Optimizing with gradients\n",
    "You are given a loss function, y=x2, which you want to minimize. You can do this by computing the slope using the GradientTape() operation at different values of x. If the slope is positive, you can decrease the loss by lowering x. If it is negative, you can decrease it by increasing x. This is how gradient descent works.\n",
    "\n",
    "<img src=\"gradient_plot.png\" width=300 />\n",
    "\n",
    "\n",
    "The image shows a plot of y equals x squared. It also shows the gradient at x equals -1, x equals 0, and x equals 1.\n",
    "\n",
    "In practice, you will use a high level tensorflow operation to perform gradient descent automatically. In this exercise, however, you will compute the slope at x values of -1, 1, and 0. The following operations are available: GradientTape(), multiply(), and Variable().\n",
    "\n",
    "#### Instructions\n",
    "\n",
    "- Define x as a variable with the initial value x0.\n",
    "- Set the loss function, y, equal to x multiplied by x. Do not make use of operator overloading.\n",
    "- Set the function to return the gradient of y with respect to x."
   ]
  },
  {
   "cell_type": "code",
   "execution_count": 9,
   "metadata": {},
   "outputs": [
    {
     "name": "stdout",
     "output_type": "stream",
     "text": [
      "-2.0\n",
      "2.0\n",
      "0.0\n"
     ]
    }
   ],
   "source": [
    "def compute_gradient(x0):\n",
    "  \t# Define x as a variable with an initial value of x0\n",
    "\tx = tf.Variable(x0)\n",
    "\twith tf.GradientTape() as tape:\n",
    "\t\ttape.watch(x)\n",
    "        # Define y using the multiply operation\n",
    "\t\ty = x*x\n",
    "    # Return the gradient of y with respect to x\n",
    "\treturn tape.gradient(y, x).numpy()\n",
    "\n",
    "# Compute and print gradients at x = -1, 1, and 0\n",
    "print(compute_gradient(-1.0))\n",
    "print(compute_gradient(1.0))\n",
    "print(compute_gradient(0.0))"
   ]
  },
  {
   "cell_type": "markdown",
   "metadata": {},
   "source": [
    "### Working with image data\n",
    "You are given a black-and-white image of a letter, which has been encoded as a tensor, letter. You want to determine whether the letter is an X or a K. You don't have a trained neural network, but you do have a simple model, model, which can be used to classify letter.\n",
    "\n",
    "The 3x3 tensor, letter, and the 1x3 tensor, model, are available in the Python shell. You can determine whether letter is a K by multiplying letter by model, summing over the result, and then checking if it is equal to 1. As with more complicated models, such as neural networks, model is a collection of weights, arranged in a tensor.\n",
    "\n",
    "Note that the functions reshape(), matmul(), and reduce_sum() have been imported from tensorflow and are available for use.\n",
    "\n",
    "#### Instructions\n",
    "\n",
    "- The model, model, is 1x3 tensor, but should be a 3x1. Reshape model.\n",
    "- Perform a matrix multiplication of the 3x3 tensor, letter, by the 3x1 tensor, model.\n",
    "- Sum over the resulting tensor, output, and assign this value to prediction.\n",
    "- Print prediction using the .numpy() method to determine whether letter is K."
   ]
  },
  {
   "cell_type": "code",
   "execution_count": 10,
   "metadata": {},
   "outputs": [],
   "source": [
    "letter = np.array([[1., 0., 1.], [1., 1., 0.], [1., 0., 1.]])\n",
    "model = np.array([[ 1.,  0., -1.]])"
   ]
  },
  {
   "cell_type": "code",
   "execution_count": 11,
   "metadata": {},
   "outputs": [
    {
     "name": "stdout",
     "output_type": "stream",
     "text": [
      "1.0\n"
     ]
    }
   ],
   "source": [
    "# Reshape model from a 1x3 to a 3x1 tensor\n",
    "model = tf.reshape(model, (3, 1))\n",
    "\n",
    "# Multiply letter by model\n",
    "output = tf.matmul(letter, model)\n",
    "\n",
    "# Sum over output and print prediction using the numpy method\n",
    "prediction = tf.reduce_sum(output)\n",
    "print(prediction.numpy())"
   ]
  },
  {
   "cell_type": "markdown",
   "metadata": {},
   "source": [
    "# 2. Linear models\n",
    "\n",
    "In this chapter, you will learn how to build, solve, and make predictions with models in TensorFlow 2.0. You will focus on a simple class of models – the linear regression model – and will try to predict housing prices. By the end of the chapter, you will know how to load and manipulate data, construct loss functions, perform minimization, make predictions, and reduce resource use with batch training."
   ]
  },
  {
   "cell_type": "markdown",
   "metadata": {},
   "source": [
    "### Load data using pandas\n",
    "Before you can train a machine learning model, you must first import data. There are several valid ways to do this, but for now, we will use a simple one-liner from pandas: pd.read_csv(). Recall from the video that the first argument specifies the path or URL. All other arguments are optional.\n",
    "\n",
    "In this exercise, you will import the King County housing dataset, which we will use to train a linear model later in the chapter.\n",
    "\n",
    "#### Instructions\n",
    "\n",
    "- Import pandas under the alias pd.\n",
    "- Assign the path to a string variable with the name data_path.\n",
    "- Load the dataset as a pandas dataframe named housing.\n",
    "- Print the price column of housing."
   ]
  },
  {
   "cell_type": "code",
   "execution_count": 12,
   "metadata": {},
   "outputs": [
    {
     "name": "stdout",
     "output_type": "stream",
     "text": [
      "0        221900.0\n",
      "1        538000.0\n",
      "2        180000.0\n",
      "3        604000.0\n",
      "4        510000.0\n",
      "           ...   \n",
      "21608    360000.0\n",
      "21609    400000.0\n",
      "21610    402101.0\n",
      "21611    400000.0\n",
      "21612    325000.0\n",
      "Name: price, Length: 21613, dtype: float64\n"
     ]
    }
   ],
   "source": [
    "# Assign the path to a string variable named data_path\n",
    "data_path = 'data/kc_house_data.csv'\n",
    "\n",
    "# Load the dataset as a dataframe named housing\n",
    "housing = pd.read_csv(data_path)\n",
    "\n",
    "# Print the price column of housing\n",
    "print(housing.price)"
   ]
  },
  {
   "cell_type": "markdown",
   "metadata": {},
   "source": [
    "### Setting the data type\n",
    "In this exercise, you will both load data and set its type. Note that housing is available and pandas has been imported as pd. You will import numpy and tensorflow, and define tensors that are usable in tensorflow using columns in housing with a given data type. Recall that you can select the price column, for instance, from housing using housing['price'].\n",
    "\n",
    "#### Instructions\n",
    "\n",
    "- Import numpy and tensorflow under their standard aliases.\n",
    "- Use a numpy array to set the tensor price to have a data type of 32-bit floating point number\n",
    "- Use the tensorflow function cast() to set the tensor waterfront to have a - Boolean data type.\n",
    "- Print price and then waterfront. Did you notice any important differences?"
   ]
  },
  {
   "cell_type": "code",
   "execution_count": 13,
   "metadata": {},
   "outputs": [
    {
     "name": "stdout",
     "output_type": "stream",
     "text": [
      "[221900. 538000. 180000. ... 402101. 400000. 325000.]\n",
      "tf.Tensor([False False False ... False False False], shape=(21613,), dtype=bool)\n"
     ]
    }
   ],
   "source": [
    "\n",
    "# Use a numpy array to define price as a 32-bit float\n",
    "price = np.array(housing['price'], np.float32)\n",
    "\n",
    "# Define waterfront as a Boolean using cast\n",
    "waterfront = tf.cast(housing['waterfront'], tf.bool)\n",
    "\n",
    "# Print price and waterfront\n",
    "print(price)\n",
    "print(waterfront)"
   ]
  },
  {
   "cell_type": "markdown",
   "metadata": {},
   "source": [
    "### Loss functions in TensorFlow\n",
    "In this exercise, you will compute the loss using data from the King County housing dataset. You are given a target, price, which is a tensor of house prices, and predictions, which is a tensor of predicted house prices. You will evaluate the loss function and print out the value of the loss.\n",
    "\n",
    "#### Instructions\n",
    "- Import the keras module from tensorflow. Then, use price and predictions to compute the mean squared error (mse).\n",
    "- Modify your code to compute the mean absolute error (mae), rather than the mean squared error (mse)."
   ]
  },
  {
   "cell_type": "code",
   "execution_count": 14,
   "metadata": {},
   "outputs": [
    {
     "name": "stdout",
     "output_type": "stream",
     "text": [
      "141307270000.0\n",
      "268921.97\n"
     ]
    }
   ],
   "source": [
    "predictions = tf.cast(housing.predictions, tf.float32)\n",
    "\n",
    "# Compute the mean squared error (mse)\n",
    "loss = keras.losses.mse(price, predictions)\n",
    "\n",
    "# Print the mean squared error (mse)\n",
    "print(loss.numpy())\n",
    "\n",
    "# Compute the mean absolute error (mae)\n",
    "loss = keras.losses.mae(price, predictions)\n",
    "\n",
    "# Print the mean absolute error (mae)\n",
    "print(loss.numpy())"
   ]
  },
  {
   "cell_type": "markdown",
   "metadata": {},
   "source": [
    "### Modifying the loss function\n",
    "In the previous exercise, you defined a tensorflow loss function and then evaluated it once for a set of actual and predicted values. In this exercise, you will compute the loss within another function called loss_function(), which first generates predicted values from the data and variables. The purpose of this is to construct a function of the trainable model variables that returns the loss. You can then repeatedly evaluate this function for different variable values until you find the minimum. In practice, you will pass this function to an optimizer in tensorflow. Note that features and targets have been defined and are available. Additionally, Variable, float32, and keras are available.\n",
    "\n",
    "#### Instructions\n",
    "\n",
    "- Define a variable, scalar, with an initial value of 1.0 and a type of float32.\n",
    "- Define a function called loss_function(), which takes scalar, features, and targets as arguments in that order.\n",
    "- Use a mean absolute error loss function.\n"
   ]
  },
  {
   "cell_type": "code",
   "execution_count": 15,
   "metadata": {},
   "outputs": [],
   "source": [
    "targets = constant(np.array([ 2.,  4.,  6.,  8., 10.], dtype=np.float32))\n",
    "features = constant(np.array([1.,2.,3.,4.,5.]), dtype=np.float32)"
   ]
  },
  {
   "cell_type": "code",
   "execution_count": 16,
   "metadata": {},
   "outputs": [
    {
     "name": "stdout",
     "output_type": "stream",
     "text": [
      "3.0\n"
     ]
    }
   ],
   "source": [
    "# Initialize a variable named scalar\n",
    "scalar = Variable(1.0, tf.float32)\n",
    "\n",
    "# Define the model\n",
    "def model(scalar, features = features):\n",
    "  \treturn scalar * features\n",
    "\n",
    "# Define a loss function\n",
    "def loss_function(scalar, features = features, targets = targets):\n",
    "\t# Compute the predicted values\n",
    "\tpredictions = model(scalar, features)\n",
    "    \n",
    "\t# Return the mean absolute error loss\n",
    "\treturn keras.losses.mae(targets, predictions)\n",
    "\n",
    "# Evaluate the loss function and print the loss\n",
    "print(loss_function(scalar).numpy())"
   ]
  },
  {
   "cell_type": "markdown",
   "metadata": {},
   "source": [
    "### Set up a linear regression\n",
    "A univariate linear regression identifies the relationship between a single feature and the target tensor. In this exercise, we will use a property's lot size and price. Just as we discussed in the video, we will take the natural logarithms of both tensors, which are available as price_log and size_log.\n",
    "\n",
    "In this exercise, you will define the model and the loss function. You will then evaluate the loss function for two different values of intercept and slope. Remember that the predicted values are given by intercept + features*slope. Additionally, note that keras.losses.mse() is available for you. Furthermore, slope and intercept have been defined as variables.\n",
    "\n",
    "#### Instructions\n",
    "\n",
    "- Define a function that returns the predicted values for a linear regression using intercept, features, and slope, and without using add() or multiply().\n",
    "- Complete the loss_function() by adding the model's variables, intercept and slope, as arguments.\n",
    "- Compute the mean squared error using targets and predictions."
   ]
  },
  {
   "cell_type": "code",
   "execution_count": 17,
   "metadata": {},
   "outputs": [],
   "source": [
    "price_log = np.log(price)\n",
    "size_log = np.log(housing.sqft_lot)"
   ]
  },
  {
   "cell_type": "code",
   "execution_count": 18,
   "metadata": {},
   "outputs": [
    {
     "name": "stdout",
     "output_type": "stream",
     "text": [
      "145.448336689515\n",
      "71.86728197085229\n"
     ]
    }
   ],
   "source": [
    "# Define a linear regression model\n",
    "def linear_regression(intercept, slope, features = size_log):\n",
    "\treturn intercept + slope * features\n",
    "\n",
    "# Set loss_function() to take the variables as arguments\n",
    "def loss_function(intercept, slope, features = size_log, targets = price_log):\n",
    "\t# Set the predicted values\n",
    "\tpredictions = linear_regression(intercept, slope, features)\n",
    "    \n",
    "    # Return the mean squared error loss\n",
    "\treturn keras.losses.mean_squared_error(targets,predictions)\n",
    "\n",
    "# Compute the loss for different slope and intercept values\n",
    "print(loss_function(0.1, 0.1).numpy())\n",
    "print(loss_function(0.1, 0.5).numpy())"
   ]
  },
  {
   "cell_type": "markdown",
   "metadata": {},
   "source": [
    "### Train a linear model\n",
    "In this exercise, we will pick up where the previous exercise ended. The intercept and slope, intercept and slope, have been defined and initialized. Additionally, a function has been defined, loss_function(intercept, slope), which computes the loss using the data and model variables.\n",
    "\n",
    "You will now define an optimization operation as opt. You will then train a univariate linear model by minimizing the loss to find the optimal values of intercept and slope. Note that the opt operation will try to move closer to the optimum with each step, but will require many steps to find it. Thus, you must repeatedly execute the operation.\n",
    "\n",
    "#### Instructions\n",
    "\n",
    "- Initialize an Adam optimizer as opt with a learning rate of 0.5.\n",
    "- Apply the .minimize() method to the optimizer.\n",
    "- Pass loss_function() with the appropriate arguments as a lambda function to .minimize().\n",
    "- Supply the list of variables that need to be updated to var_list."
   ]
  },
  {
   "cell_type": "code",
   "execution_count": 19,
   "metadata": {},
   "outputs": [],
   "source": [
    "def plot_results(intercept, slope):\n",
    "        size_range = np.linspace(6,14,100)\n",
    "        price_pred = [intercept+slope*s for s in size_range]\n",
    "        plt.scatter(size_log, price_log, color = 'black')\n",
    "        plt.plot(size_range, price_pred, linewidth=3.0, color='red')\n",
    "        plt.xlabel('log(size)')\n",
    "        plt.ylabel('log(price)')\n",
    "        plt.title('Scatterplot of data and fitted regression line')\n",
    "        plt.show()"
   ]
  },
  {
   "cell_type": "code",
   "execution_count": 20,
   "metadata": {},
   "outputs": [
    {
     "name": "stdout",
     "output_type": "stream",
     "text": [
      "9.681749\n",
      "11.737402\n",
      "1.1300178\n",
      "1.6701479\n",
      "0.8092006\n",
      "0.812697\n",
      "0.6221346\n",
      "0.6119664\n",
      "0.5934977\n",
      "0.5704044\n"
     ]
    },
    {
     "data": {
      "image/png": "[encoded data removed]",
      "text/plain": [
       "<Figure size 432x288 with 1 Axes>"
      ]
     },
     "metadata": {
      "needs_background": "light"
     },
     "output_type": "display_data"
    }
   ],
   "source": [
    "intercept = Variable(5.)\n",
    "slope = Variable(0.001)\n",
    "# Initialize an adam optimizer\n",
    "opt = keras.optimizers.Adam(0.5)\n",
    "\n",
    "for j in range(100):\n",
    "\t# Apply minimize, pass the loss function, and supply the variables\n",
    "\topt.minimize(lambda: loss_function(intercept, slope), var_list=[intercept, slope])\n",
    "\n",
    "\t# Print every 10th value of the loss\n",
    "\tif j % 10 == 0:\n",
    "\t\tprint(loss_function(intercept, slope).numpy())\n",
    "\n",
    "# Plot data and regression line\n",
    "plot_results(intercept, slope)"
   ]
  },
  {
   "cell_type": "markdown",
   "metadata": {},
   "source": [
    "### Multiple linear regression\n",
    "In most cases, performing a univariate linear regression will not yield a model that is useful for making accurate predictions. In this exercise, you will perform a multiple regression, which uses more than one feature.\n",
    "\n",
    "You will use price_log as your target and size_log and bedrooms as your features. Each of these tensors has been defined and is available. You will also switch from using the the mean squared error loss to the mean absolute error loss: keras.losses.mae(). Finally, the predicted values are computed as follows: params[0] + feature1*params[1] + feature2*params[2]. Note that we've defined a vector of parameters, params, as a variable, rather than using three variables. Here, params[0] is the intercept and params[1] and params[2] are the slopes.\n",
    "\n",
    "#### Instructions\n",
    "\n",
    "- Define a linear regression model that returns the predicted values.\n",
    "- Set loss_function() to take the parameter vector as an input.\n",
    "- Use the mean absolute error loss.\n",
    "- Complete the minimization operation."
   ]
  },
  {
   "cell_type": "code",
   "execution_count": 21,
   "metadata": {},
   "outputs": [],
   "source": [
    "bedrooms = housing.bedrooms.to_numpy(dtype = np.float32 )\n",
    "params = Variable(np.array([0.1 , 0.05, 0.02], dtype=np.float32))\n",
    "\n",
    "def print_results(params):\n",
    "        return print('loss: {:0.3f}, intercept: {:0.3f}, slope_1: {:0.3f}, slope_2: {:0.3f}'\n",
    "                     .format(loss_function(params).numpy(), params[0].numpy(), params[1].numpy(), \n",
    "                             params[2].numpy()))"
   ]
  },
  {
   "cell_type": "code",
   "execution_count": 22,
   "metadata": {},
   "outputs": [
    {
     "name": "stdout",
     "output_type": "stream",
     "text": [
      "loss: 12.427, intercept: 0.101, slope_1: 0.050, slope_2: 0.021\n",
      "loss: 12.422, intercept: 0.102, slope_1: 0.050, slope_2: 0.022\n",
      "loss: 12.418, intercept: 0.103, slope_1: 0.050, slope_2: 0.023\n",
      "loss: 12.413, intercept: 0.104, slope_1: 0.050, slope_2: 0.024\n",
      "loss: 12.409, intercept: 0.105, slope_1: 0.050, slope_2: 0.025\n",
      "loss: 12.405, intercept: 0.106, slope_1: 0.050, slope_2: 0.026\n",
      "loss: 12.400, intercept: 0.107, slope_1: 0.050, slope_2: 0.027\n",
      "loss: 12.396, intercept: 0.108, slope_1: 0.050, slope_2: 0.028\n",
      "loss: 12.392, intercept: 0.109, slope_1: 0.050, slope_2: 0.029\n",
      "loss: 12.387, intercept: 0.110, slope_1: 0.050, slope_2: 0.030\n"
     ]
    }
   ],
   "source": [
    "# Define the linear regression model\n",
    "def linear_regression(params, feature1 = size_log, feature2 = bedrooms):\n",
    "\treturn params[0] + feature1*params[1] + feature2*params[2]\n",
    "\n",
    "# Define the loss function\n",
    "def loss_function(params, targets = price_log, feature1 = size_log, feature2 = bedrooms):\n",
    "\t# Set the predicted values\n",
    "\tpredictions = linear_regression(params, feature1, feature2)\n",
    "  \n",
    "\t# Use the mean absolute error loss\n",
    "\treturn keras.losses.mae(targets, predictions)\n",
    "\n",
    "# Define the optimize operation\n",
    "opt = keras.optimizers.Adam()\n",
    "\n",
    "# Perform minimization and print trainable variables\n",
    "for j in range(10):\n",
    "\topt.minimize(lambda: loss_function(params), var_list=[params])\n",
    "\tprint_results(params)"
   ]
  },
  {
   "cell_type": "markdown",
   "metadata": {},
   "source": [
    "### Preparing to batch train\n",
    "Before we can train a linear model in batches, we must first define variables, a loss function, and an optimization operation. In this exercise, we will prepare to train a model that will predict price_batch, a batch of house prices, using size_batch, a batch of lot sizes in square feet. In contrast to the previous lesson, we will do this by loading batches of data using pandas, converting it to numpy arrays, and then using it to minimize the loss function in steps.\n",
    "\n",
    "Variable(), keras(), and float32 have been imported for you. Note that you should not set default argument values for either the model or loss function, since we will generate the data in batches during the training process.\n",
    "\n",
    "#### Instructions\n",
    "\n",
    "- Define intercept as having an initial value of 10.0 and a data type of 32-bit float.\n",
    "- Define the model to return the predicted values using intercept, features, and slope.\n",
    "- Define a function called loss_function() that takes intercept, slope, targets, and features as arguments. Do not set default argument values.\n",
    "- Define the mean squared error loss function using targets and predictions."
   ]
  },
  {
   "cell_type": "code",
   "execution_count": 23,
   "metadata": {},
   "outputs": [],
   "source": [
    "# Define the intercept and slope\n",
    "intercept = Variable(10.0, tf.float32)\n",
    "slope = Variable(0.5, tf.float32)\n",
    "\n",
    "# Define the model\n",
    "def linear_regression(intercept, slope, features):\n",
    "\t# Define the predicted values\n",
    "\treturn intercept + slope* features\n",
    "\n",
    "# Define the loss function\n",
    "def loss_function(intercept, slope, targets, features):\n",
    "\t# Define the predicted values\n",
    "\tpredictions = linear_regression(intercept, slope, features)\n",
    "    \n",
    " \t# Define the MSE loss\n",
    "\treturn keras.losses.mean_squared_error(targets, predictions)"
   ]
  },
  {
   "cell_type": "markdown",
   "metadata": {},
   "source": [
    "### Training a linear model in batches\n",
    "In this exercise, we will train a linear regression model in batches, starting where we left off in the previous exercise. We will do this by stepping through the dataset in batches and updating the model's variables, intercept and slope, after each step. This approach will allow us to train with datasets that are otherwise too large to hold in memory.\n",
    "\n",
    "Note that the loss function,loss_function(intercept, slope, targets, features), has been defined for you. Additionally, keras has been imported for you and numpy is available as np. The trainable variables should be entered into var_list in the order in which they appear as loss function arguments.\n",
    "\n",
    "#### Instructions\n",
    "\n",
    "- Use the .Adam() optimizer.\n",
    "- Load in the data from 'kc_house_data.csv' in batches with a chunksize of 100.\n",
    "- Extract the price column from batch, convert it to a numpy array of type 32-bit float, and assign it to price_batch.\n",
    "- Complete the loss function, fill in the list of trainable variables, and perform minimization."
   ]
  },
  {
   "cell_type": "code",
   "execution_count": 24,
   "metadata": {},
   "outputs": [
    {
     "name": "stdout",
     "output_type": "stream",
     "text": [
      "10.217884 ,  0.7015924\n"
     ]
    }
   ],
   "source": [
    "# Initialize adam optimizer\n",
    "opt = keras.optimizers.Adam()\n",
    "\n",
    "# Load data in batches\n",
    "for batch in pd.read_csv('data/kc_house_data.csv', chunksize = 100):\n",
    "\tsize_batch = np.array(batch['sqft_lot'], np.float32)\n",
    "\n",
    "\t# Extract the price values for the current batch\n",
    "\tprice_batch = np.array(batch['price'], np.float32)\n",
    "\n",
    "\t# Complete the loss, fill in the variable list, and minimize\n",
    "\topt.minimize(lambda: loss_function(intercept, slope, price_batch, size_batch), var_list=[intercept, slope])\n",
    "\n",
    "# Print trained parameters\n",
    "print(intercept.numpy(), ', ', slope.numpy())"
   ]
  },
  {
   "cell_type": "markdown",
   "metadata": {},
   "source": [
    "# 3. Neural Networks\n",
    "\n",
    "The previous chapters taught you how to build models in TensorFlow 2.0. In this chapter, you will apply those same tools to build, train, and make predictions with neural networks. You will learn how to define dense layers, apply activation functions, select an optimizer, and apply regularization to reduce overfitting. You will take advantage of TensorFlow's flexibility by using both low-level linear algebra and high-level Keras API operations to define and train models."
   ]
  },
  {
   "cell_type": "markdown",
   "metadata": {},
   "source": [
    "### The linear algebra of dense layers\n",
    "There are two ways to define a dense layer in tensorflow. The first involves the use of low-level, linear algebraic operations. The second makes use of high-level keras operations. In this exercise, we will use the first method to construct the network shown in the image below.\n",
    "\n",
    "<img src=\"3_2_1_network2.png\" width=200  >\n",
    "\n",
    "This image depicts an neural network with 5 input nodes and 3 output nodes.\n",
    "The input layer contains 3 features -- education, marital status, and age -- which are available as borrower_features. The hidden layer contains 2 nodes and the output layer contains a single node.\n",
    "\n",
    "For each layer, you will take the previous layer as an input, initialize a set of weights, compute the product of the inputs and weights, and then apply an activation function. Note that Variable(), ones(), matmul(), and keras() have been imported from tensorflow.\n",
    "\n",
    "#### Instructions\n",
    "- Initialize weights1 as a variable using a 3x2 tensor of ones.\n",
    "- Compute the product of borrower_features by weights1 using matrix multiplication.\n",
    "- Use a sigmoid activation function to transform product1 + bias1."
   ]
  },
  {
   "cell_type": "code",
   "execution_count": 25,
   "metadata": {},
   "outputs": [
    {
     "name": "stdout",
     "output_type": "stream",
     "text": [
      "\n",
      " dense1's output shape: (1, 2)\n"
     ]
    }
   ],
   "source": [
    "borrower_features = np.array([[ 2.,  1., 24.]], dtype=np.float32)\n",
    "# Initialize bias1\n",
    "bias1 = Variable(1.0)\n",
    "\n",
    "# Initialize weights1 as 3x2 variable of ones\n",
    "weights1 = Variable(tf.ones((3, 2)))\n",
    "\n",
    "# Perform matrix multiplication of borrower_features and weights1\n",
    "product1 = tf.matmul(borrower_features,weights1)\n",
    "\n",
    "# Apply sigmoid activation function to product1 + bias1\n",
    "dense1 = keras.activations.sigmoid(product1  + bias1)\n",
    "\n",
    "# Print shape of dense1\n",
    "print(\"\\n dense1's output shape: {}\".format(dense1.shape))"
   ]
  },
  {
   "cell_type": "markdown",
   "metadata": {},
   "source": [
    "- Initialize weights2 as a variable using a 2x1 tensor of ones.\n",
    "- Compute the product of dense1 by weights2 using matrix multiplication.\n",
    "- Use a sigmoid activation function to transform product2 + bias2.\n"
   ]
  },
  {
   "cell_type": "code",
   "execution_count": 26,
   "metadata": {},
   "outputs": [
    {
     "name": "stdout",
     "output_type": "stream",
     "text": [
      "\n",
      " prediction: 0.9525741338729858\n",
      "\n",
      " actual: 1\n"
     ]
    }
   ],
   "source": [
    "# Initialize bias2 and weights2\n",
    "bias2 = Variable(1.0)\n",
    "weights2 = Variable(tf.ones((2, 1)))\n",
    "\n",
    "# Perform matrix multiplication of dense1 and weights2\n",
    "product2 = tf.matmul(dense1,weights2)\n",
    "\n",
    "# Apply activation to product2 + bias2 and print the prediction\n",
    "prediction = keras.activations.sigmoid(product2 + bias2)\n",
    "print('\\n prediction: {}'.format(prediction.numpy()[0,0]))\n",
    "print('\\n actual: 1')"
   ]
  },
  {
   "cell_type": "markdown",
   "metadata": {},
   "source": [
    "### The low-level approach with multiple examples\n",
    "In this exercise, we'll build further intuition for the low-level approach by constructing the first dense hidden layer for the case where we have multiple examples. We'll assume the model is trained and the first layer weights, weights1, and bias, bias1, are available. We'll then perform matrix multiplication of the borrower_features tensor by the weights1 variable. Recall that the borrower_features tensor includes education, marital status, and age. Finally, we'll apply the sigmoid function to the elements of products1 + bias1, yielding dense1.\n",
    "\n",
    "<img src=\"twolevelapp.JPG\" width=300 >\n",
    "\n",
    "\n",
    "\n",
    "#### Instructions\n",
    "\n",
    "- Compute products1 by matrix multiplying the features tensor by the weights.\n",
    "- Use a sigmoid activation function to transform products1 + bias1.\n",
    "- Print the shapes of borrower_features, weights1, bias1, and dense1.\n"
   ]
  },
  {
   "cell_type": "code",
   "execution_count": 27,
   "metadata": {},
   "outputs": [],
   "source": [
    "matmul = tf.matmul\n",
    "float32 = np.float32\n",
    "\n",
    "borrower_features = Variable(np.array([[ 3.,  3., 23.],\n",
    "                              [ 2.,  1., 24.],\n",
    "                              [ 1.,  1., 49.],\n",
    "                              [ 1.,  1., 49.],\n",
    "                              [ 2.,  1., 29.]], dtype=np.float32))\n",
    "\n",
    "weights1 = Variable(np.array([[-0.6 ,  0.6 ],\n",
    "                     [ 0.8 , -0.3 ],\n",
    "                     [-0.09, -0.08]], dtype=np.float32))\n",
    "\n",
    "bias1 = Variable([0.1], dtype = tf.float32)"
   ]
  },
  {
   "cell_type": "code",
   "execution_count": 28,
   "metadata": {},
   "outputs": [
    {
     "name": "stdout",
     "output_type": "stream",
     "text": [
      "\n",
      " shape of borrower_features:  (5, 3)\n",
      "\n",
      " shape of weights1:  (3, 2)\n",
      "\n",
      " shape of bias1:  (1,)\n",
      "\n",
      " shape of dense1:  (5, 2)\n"
     ]
    }
   ],
   "source": [
    "# Compute the product of borrower_features and weights1\n",
    "products1 = matmul(borrower_features, weights1)\n",
    "\n",
    "# Apply a sigmoid activation function to products1 + bias1\n",
    "dense1 = keras.activations.sigmoid(products1 + bias1)\n",
    "\n",
    "# Print the shapes of borrower_features, weights1, bias1, and dense1\n",
    "print('\\n shape of borrower_features: ', borrower_features.shape)\n",
    "print('\\n shape of weights1: ', weights1.shape)\n",
    "print('\\n shape of bias1: ', bias1.shape)\n",
    "print('\\n shape of dense1: ', dense1.shape)"
   ]
  },
  {
   "cell_type": "markdown",
   "metadata": {},
   "source": [
    "### Using the dense layer operation\n",
    "We've now seen how to define dense layers in tensorflow using linear algebra. In this exercise, we'll skip the linear algebra and let keras work out the details. This will allow us to construct the network below, which has 2 hidden layers and 10 features, using less code than we needed for the network with 1 hidden layer and 3 features.\n",
    "\n",
    "<img src=\"dense_network.png\" width = 350  >\n",
    "\n",
    "To construct this network, we'll need to define three dense layers, each of which takes the previous layer as an input, multiplies it by weights, and applies an activation function. Note that input data has been defined and is available as a 100x10 tensor: borrower_features. Additionally, the keras.layers module is available.\n",
    "\n",
    "#### Instructions\n",
    "\n",
    "- Set dense1 to be a dense layer with 7 output nodes and a sigmoid activation function.\n",
    "- Define dense2 to be dense layer with 3 output nodes and a sigmoid activation function.\n",
    "- Define predictions to be a dense layer with 1 output node and a sigmoid activation function.\n",
    "- Print the shapes of dense1, dense2, and predictions in that order using the .shape method. Why does each of these tensors have 100 rows?"
   ]
  },
  {
   "cell_type": "code",
   "execution_count": 29,
   "metadata": {},
   "outputs": [],
   "source": [
    "borrower_features = Variable(pd.read_csv('data/lit_uci_credit_card.csv'))"
   ]
  },
  {
   "cell_type": "code",
   "execution_count": 30,
   "metadata": {},
   "outputs": [
    {
     "name": "stdout",
     "output_type": "stream",
     "text": [
      "\n",
      " shape of dense1:  (100, 7)\n",
      "\n",
      " shape of dense2:  (100, 3)\n",
      "\n",
      " shape of predictions:  (100, 1)\n"
     ]
    }
   ],
   "source": [
    "# Define the first dense layer\n",
    "dense1 = keras.layers.Dense(7, activation='sigmoid')(borrower_features)\n",
    "\n",
    "# Define a dense layer with 3 output nodes\n",
    "dense2 = keras.layers.Dense(3, activation='sigmoid')(dense1)\n",
    "\n",
    "# Define a dense layer with 1 output node\n",
    "predictions = keras.layers.Dense(1, activation='sigmoid')(dense2)\n",
    "\n",
    "# Print the shapes of dense1, dense2, and predictions\n",
    "print('\\n shape of dense1: ', dense1.shape)\n",
    "print('\\n shape of dense2: ', dense2.shape)\n",
    "print('\\n shape of predictions: ', predictions.shape)"
   ]
  },
  {
   "cell_type": "markdown",
   "metadata": {},
   "source": [
    "### Binary classification problems\n",
    "In this exercise, you will again make use of credit card data. The target variable, default, indicates whether a credit card holder defaults on his or her payment in the following period. Since there are only two options--default or not--this is a binary classification problem. While the dataset has many features, you will focus on just three: the size of the three latest credit card bills. Finally, you will compute predictions from your untrained network, outputs, and compare those the target variable, default.\n",
    "\n",
    "The tensor of features has been loaded and is available as bill_amounts. Additionally, the constant(), float32, and keras.layers.Dense() operations are available.\n",
    "\n",
    "#### Instructions\n",
    "\n",
    "- Define inputs as a 32-bit floating point constant tensor using bill_amounts.\n",
    "- Set dense1 to be a dense layer with 3 output nodes and a relu activation function.\n",
    "- Set dense2 to be a dense layer with 2 output nodes and a relu activation function.\n",
    "- Set the output layer to be a dense layer with a single output node and a sigmoid activation function."
   ]
  },
  {
   "cell_type": "code",
   "execution_count": 31,
   "metadata": {},
   "outputs": [],
   "source": [
    "cols = [\"BILL_AMT1\",\"BILL_AMT2\",\"BILL_AMT3\"]\n",
    "bill_amounts = pd.read_csv('data/uci_credit_card.csv', \n",
    "                           usecols = cols).to_numpy()\n",
    "default = pd.read_csv('data/uci_credit_card.csv', \n",
    "                           usecols = ['default']).to_numpy()"
   ]
  },
  {
   "cell_type": "code",
   "execution_count": 32,
   "metadata": {},
   "outputs": [
    {
     "name": "stdout",
     "output_type": "stream",
     "text": [
      "[[ 0.5]\n",
      " [ 0.5]\n",
      " [-0.5]\n",
      " [-0.5]\n",
      " [ 0. ]]\n"
     ]
    }
   ],
   "source": [
    "# Construct input layer from features\n",
    "inputs = constant(bill_amounts, dtype=float32)\n",
    "\n",
    "# Define first dense layer\n",
    "dense1 = keras.layers.Dense(3, activation='relu')(inputs)\n",
    "\n",
    "# Define second dense layer\n",
    "dense2 = keras.layers.Dense(2, activation='relu')(dense1)\n",
    "\n",
    "# Define output layer\n",
    "outputs = keras.layers.Dense(1, activation='sigmoid')(dense2)\n",
    "\n",
    "# Print error for first five examples\n",
    "error = default[:5] - outputs.numpy()[:5]\n",
    "print(error)"
   ]
  },
  {
   "cell_type": "markdown",
   "metadata": {},
   "source": [
    "### Multiclass classification problems\n",
    "In this exercise, we expand beyond binary classification to cover multiclass problems. A multiclass problem has targets that can take on three or more values. In the credit card dataset, the education variable can take on 6 different values, each corresponding to a different level of education. We will use that as our target in this exercise and will also expand the feature set from 3 to 10 columns.\n",
    "\n",
    "As in the previous problem, you will define an input layer, dense layers, and an output layer. You will also print the untrained model's predictions, which are probabilities assigned to the classes. The tensor of features has been loaded and is available as borrower_features. Additionally, the constant(), float32, and keras.layers.Dense() operations are available.\n",
    "\n",
    "#### Instructions\n",
    "\n",
    "- Define the input layer as a 32-bit constant tensor using borrower_features.\n",
    "- Set the first dense layer to have 10 output nodes and a sigmoid activation function.\n",
    "- Set the second dense layer to have 8 output nodes and a rectified linear unit activation function.\n",
    "- Set the output layer to have 6 output nodes and the appropriate activation function."
   ]
  },
  {
   "cell_type": "code",
   "execution_count": 33,
   "metadata": {},
   "outputs": [],
   "source": [
    "borrower_features = np.loadtxt('data/borrower_features.csv', \n",
    "                               delimiter = ',')"
   ]
  },
  {
   "cell_type": "code",
   "execution_count": 34,
   "metadata": {},
   "outputs": [
    {
     "name": "stdout",
     "output_type": "stream",
     "text": [
      "[[0.1351358  0.2215386  0.14394125 0.15181434 0.18815282 0.15941717]\n",
      " [0.11984477 0.16559665 0.21495858 0.13474388 0.27257714 0.092279  ]\n",
      " [0.14376889 0.22994697 0.14290838 0.13192382 0.21024515 0.14120682]\n",
      " [0.1351358  0.2215386  0.14394125 0.15181434 0.18815282 0.15941717]\n",
      " [0.18209739 0.19499354 0.14169827 0.12716864 0.23951651 0.11452567]]\n"
     ]
    }
   ],
   "source": [
    "# Construct input layer from borrower features\n",
    "inputs = constant(borrower_features, dtype=np.float32)\n",
    "\n",
    "# Define first dense layer\n",
    "dense1 = keras.layers.Dense(10, activation='sigmoid')(inputs)\n",
    "\n",
    "# Define second dense layer\n",
    "dense2 = keras.layers.Dense(8, activation='relu')(dense1)\n",
    "\n",
    "# Define output layer\n",
    "outputs = keras.layers.Dense(6, activation='softmax')(dense2)\n",
    "\n",
    "# Print first five predictions\n",
    "print(outputs.numpy()[:5])"
   ]
  },
  {
   "cell_type": "markdown",
   "metadata": {},
   "source": [
    "### The dangers of local minima\n",
    "Consider the plot of the following loss function, loss_function(), which contains a global minimum, marked by the dot on the right, and several local minima, including the one marked by the dot on the left.\n",
    "\n",
    "<img src=\"local_minima.png\" width = 280>\n",
    "\n",
    "The graph is of a single variable function that contains multiple local minima and a global minimum.\n",
    "\n",
    "In this exercise, you will try to find the global minimum of loss_function() using keras.optimizers.SGD(). You will do this twice, each time with a different initial value of the input to loss_function(). First, you will use x_1, which is a variable with an initial value of 6.0. Second, you will use x_2, which is a variable with an initial value of 0.3. Note that loss_function() has been defined and is available.\n",
    "\n",
    "#### Instructions\n",
    "\n",
    "- Set opt to use the stochastic gradient descent optimizer (SGD) with a learning rate of 0.01.\n",
    "- Perform minimization using the loss function, loss_function(), and the variable with an initial value of 6.0, x_1.\n",
    "- Perform minimization using the loss function, loss_function(), and the variable with an initial value of 0.3, x_2.\n",
    "- Print x_1 and x_2 as numpy arrays and check whether the values differ. - These are the minima that the algorithm identified."
   ]
  },
  {
   "cell_type": "code",
   "execution_count": 35,
   "metadata": {},
   "outputs": [],
   "source": [
    "import math\n",
    "def loss_function(x):\n",
    "        return 4.0*math.cos(x-1)+tf.divide(math.cos(2.0*np.pi*x),x)"
   ]
  },
  {
   "cell_type": "code",
   "execution_count": 36,
   "metadata": {},
   "outputs": [
    {
     "data": {
      "text/plain": [
       "[<matplotlib.lines.Line2D at 0x2adc2172a88>]"
      ]
     },
     "execution_count": 36,
     "metadata": {},
     "output_type": "execute_result"
    },
    {
     "data": {
      "image/png": "[encoded data removed]",
      "text/plain": [
       "<Figure size 432x288 with 1 Axes>"
      ]
     },
     "metadata": {
      "needs_background": "light"
     },
     "output_type": "display_data"
    }
   ],
   "source": [
    "xx = np.linspace(0.1,8,300)\n",
    "yy = [loss_function(x) for x in xx]\n",
    "plt.plot(xx, yy)"
   ]
  },
  {
   "cell_type": "code",
   "execution_count": 37,
   "metadata": {},
   "outputs": [
    {
     "name": "stdout",
     "output_type": "stream",
     "text": [
      "6.121951 0.25\n"
     ]
    }
   ],
   "source": [
    "# Initialize x_1 and x_2\n",
    "x_1 = tf.Variable(6.0,float32)\n",
    "x_2 = tf.Variable(0.3,float32)\n",
    "\n",
    "# Define the optimization operation\n",
    "opt = tf.keras.optimizers.SGD(learning_rate=0.01)\n",
    "\n",
    "for j in range(500):\n",
    "\t# Perform minimization using the loss function and x_1\n",
    "\topt.minimize(lambda: loss_function(x_1), var_list=[x_1])\n",
    "\t# Perform minimization using the loss function and x_2\n",
    "\topt.minimize(lambda: loss_function(x_2), var_list=[x_2])\n",
    "\n",
    "# Print x_1 and x_2 as numpy arrays\n",
    "print(x_1.numpy(), x_2.numpy())\n"
   ]
  },
  {
   "cell_type": "markdown",
   "metadata": {},
   "source": [
    "### Avoiding local minima\n",
    "The previous problem showed how easy it is to get stuck in local minima. We had a simple optimization problem in one variable and gradient descent still failed to deliver the global minimum when we had to travel through local minima first. One way to avoid this problem is to use momentum, which allows the optimizer to break through local minima. We will again use the loss function from the previous problem, which has been defined and is available for you as loss_function().\n",
    "\n",
    "\n",
    "Several optimizers in tensorflow have a momentum parameter, including SGD and RMSprop. You will make use of RMSprop in this exercise. Note that x_1 and x_2 have been initialized to the same value this time. Furthermore, keras.optimizers.RMSprop() has also been imported for you from tensorflow.\n",
    "\n",
    "#### Instructions\n",
    "\n",
    "- Set the opt_1 operation to use a learning rate of 0.01 and a momentum of 0.99.\n",
    "- Set opt_2 to use the root mean square propagation (RMS) optimizer with a learning rate of 0.01 and a momentum of 0.00.\n",
    "- Define the minimization operation for opt_2.\n",
    "- Print x_1 and x_2 as numpy arrays."
   ]
  },
  {
   "cell_type": "code",
   "execution_count": 38,
   "metadata": {},
   "outputs": [
    {
     "name": "stdout",
     "output_type": "stream",
     "text": [
      "4.2598577 0.24519981\n"
     ]
    }
   ],
   "source": [
    "# Initialize x_1 and x_2\n",
    "x_1 = Variable(0.05,float32)\n",
    "x_2 = Variable(0.05,float32)\n",
    "\n",
    "# Define the optimization operation for opt_1 and opt_2\n",
    "opt_1 = keras.optimizers.RMSprop(learning_rate=0.01, momentum=0.995)\n",
    "opt_2 = keras.optimizers.RMSprop(learning_rate=0.01, momentum=0.00)\n",
    "\n",
    "for j in range(500):\n",
    "\topt_1.minimize(lambda: loss_function(x_1), var_list=[x_1])\n",
    "    # Define the minimization operation for opt_2\n",
    "\topt_2.minimize(lambda: loss_function(x_2), var_list=[x_2])\n",
    "\n",
    "# Print x_1 and x_2 as numpy arrays\n",
    "print(x_1.numpy(), x_2.numpy())"
   ]
  },
  {
   "cell_type": "markdown",
   "metadata": {},
   "source": [
    "### Initialization in TensorFlow\n",
    "A good initialization can reduce the amount of time needed to find the global minimum. In this exercise, we will initialize weights and biases for a neural network that will be used to predict credit card default decisions. To build intuition, we will use the low-level, linear algebraic approach, rather than making use of convenience functions and high-level keras operations. We will also expand the set of input features from 3 to 23. \n",
    "#### Instructions\n",
    "\n",
    "- Initialize the layer 1 weights, w1, as a Variable() with shape [23, 7], drawn from a normal distribution.\n",
    "- Initialize the layer 1 bias using ones.\n",
    "- Use a draw from the normal distribution to initialize w2 as a Variable() with shape [7, 1].\n",
    "- Define b2 as a Variable() and set its initial value to 0.0."
   ]
  },
  {
   "cell_type": "code",
   "execution_count": 39,
   "metadata": {},
   "outputs": [],
   "source": [
    "# Define the layer 1 weights\n",
    "w1 = Variable(tf.random.normal([23, 7]))\n",
    "\n",
    "# Initialize the layer 1 bias\n",
    "b1 = Variable(tf.random.normal([7]))\n",
    "\n",
    "# Define the layer 2 weights\n",
    "w2 = Variable(tf.random.normal([7, 1]))\n",
    "\n",
    "# Define the layer 2 bias\n",
    "b2 = Variable(tf.random.normal([1]))"
   ]
  },
  {
   "cell_type": "markdown",
   "metadata": {},
   "source": [
    "### Defining the model and loss function\n",
    "In this exercise, you will train a neural network to predict whether a credit card holder will default. The features and targets you will use to train your network are available in the Python shell as borrower_features and default. You defined the weights and biases in the previous exercise.\n",
    "\n",
    "Note that the predictions layer is defined as σ(layer1∗w2+b2), where σ is the sigmoid activation, layer1 is a tensor of nodes for the first hidden dense layer, w2 is a tensor of weights, and b2 is the bias tensor.\n",
    "\n",
    "The trainable variables are w1, b1, w2, and b2. Additionally, the following operations have been imported for you: keras.activations.relu() and keras.layers.Dropout().\n",
    "\n",
    "#### Instructions\n",
    "\n",
    "- Apply a rectified linear unit activation function to the first layer.\n",
    "- Apply 25% dropout to layer1.\n",
    "- Pass the target, targets, and the predicted values, predictions, to the cross entropy loss function."
   ]
  },
  {
   "cell_type": "code",
   "execution_count": 40,
   "metadata": {},
   "outputs": [],
   "source": [
    "df = pd.read_csv('data/borrow.csv', header=None)\n",
    "borrower_features = df.iloc[:2500,:-1].to_numpy().astype('float32')\n",
    "default = df.iloc[:2500,-1].to_numpy().reshape([2500,1]).astype('float32')\n",
    "\n",
    "test_features = df.iloc[2500:,:-1].to_numpy().astype('float32')\n",
    "test_targets = df.iloc[2500:,-1].to_numpy().reshape([500,1]).astype('float32')\n",
    "\n",
    "# Define the model\n",
    "def model(w1, b1, w2, b2, features = borrower_features):\n",
    "\t# Apply relu activation functions to layer 1\n",
    "\tlayer1 = keras.activations.relu(tf.matmul(features, w1) + b1)\n",
    "    # Apply dropout\n",
    "\tdropout = keras.layers.Dropout(0.25)(layer1)\n",
    "\treturn keras.activations.sigmoid(tf.matmul(dropout, w2) + b2)\n",
    "\n",
    "# Define the loss function\n",
    "def loss_function(w1, b1, w2, b2, features = borrower_features, targets = default):\n",
    "\tpredictions = model(w1, b1, w2, b2)\n",
    "\t# Pass targets and predictions to the cross entropy loss\n",
    "\treturn keras.losses.binary_crossentropy(targets, predictions)"
   ]
  },
  {
   "cell_type": "markdown",
   "metadata": {},
   "source": [
    "### Training neural networks with TensorFlow\n",
    "In the previous exercise, you defined a model, model(w1, b1, w2, b2, features), and a loss function, loss_function(w1, b1, w2, b2, features, targets), both of which are available to you in this exercise. You will now train the model and then evaluate its performance by predicting default outcomes in a test set, which consists of test_features and test_targets and is available to you. The trainable variables are w1, b1, w2, and b2. Additionally, the following operations have been imported for you: keras.activations.relu() and keras.layers.Dropout().\n",
    "\n",
    "#### Instructions\n",
    "\n",
    "- Set the optimizer to perform minimization.\n",
    "- Add the four trainable variables to var_list in the order in which they appear as arguments to loss_function().\n",
    "- Use the model and test_features to predict the values for test_targets."
   ]
  },
  {
   "cell_type": "code",
   "execution_count": 41,
   "metadata": {},
   "outputs": [],
   "source": [
    "opt= tf.optimizers.Adam()"
   ]
  },
  {
   "cell_type": "code",
   "execution_count": 42,
   "metadata": {},
   "outputs": [
    {
     "data": {
      "text/plain": [
       "(2500, 1)"
      ]
     },
     "execution_count": 42,
     "metadata": {},
     "output_type": "execute_result"
    }
   ],
   "source": [
    "default.shape"
   ]
  },
  {
   "cell_type": "code",
   "execution_count": 43,
   "metadata": {},
   "outputs": [],
   "source": [
    "from seaborn import heatmap\n",
    "def confusion_matrix(default, model_predictions):\n",
    "        df = pd.DataFrame(np.hstack([default, model_predictions.numpy() > 0.5]), \n",
    "                       columns = ['Actual','Predicted'])\n",
    "        confusion_matrix = pd.crosstab(df['Actual'], df['Predicted'], \n",
    "                                    rownames=['Actual'], colnames=['Predicted'])\n",
    "        heatmap(confusion_matrix, cmap=\"Greys\", fmt=\"d\", annot=True, cbar=False)\n",
    "        plt.show()"
   ]
  },
  {
   "cell_type": "code",
   "execution_count": 44,
   "metadata": {},
   "outputs": [
    {
     "data": {
      "image/png": "[encoded data removed]",
      "text/plain": [
       "<Figure size 432x288 with 1 Axes>"
      ]
     },
     "metadata": {
      "needs_background": "light"
     },
     "output_type": "display_data"
    }
   ],
   "source": [
    "# Train the model\n",
    "for j in range(100):\n",
    "    # Complete the optimizer\n",
    "\topt.minimize(lambda: loss_function(w1, b1, w2, b2), \n",
    "                 var_list=[w1, b1, w2, b2])\n",
    "\n",
    "# Make predictions with model\n",
    "model_predictions = model(w1, b1, w2, b2, test_features)\n",
    "\n",
    "# Construct the confusion matrix\n",
    "confusion_matrix(test_targets, model_predictions)"
   ]
  },
  {
   "cell_type": "markdown",
   "metadata": {},
   "source": [
    "# 4. High Level APIs\n",
    "\n",
    "In the final chapter, you'll use high-level APIs in TensorFlow 2.0 to train a sign language letter classifier. You will use both the sequential and functional Keras APIs to train, validate, make predictions with, and evaluate models. You will also learn how to use the Estimators API to streamline the model definition and training process, and to avoid errors."
   ]
  },
  {
   "cell_type": "code",
   "execution_count": 45,
   "metadata": {},
   "outputs": [
    {
     "name": "stdout",
     "output_type": "stream",
     "text": [
      "Model: \"sequential\"\n",
      "_________________________________________________________________\n",
      "Layer (type)                 Output Shape              Param #   \n",
      "=================================================================\n",
      "dense_9 (Dense)              (None, 16)                12560     \n",
      "_________________________________________________________________\n",
      "dense_10 (Dense)             (None, 8)                 136       \n",
      "_________________________________________________________________\n",
      "dense_11 (Dense)             (None, 4)                 36        \n",
      "=================================================================\n",
      "Total params: 12,732\n",
      "Trainable params: 12,732\n",
      "Non-trainable params: 0\n",
      "_________________________________________________________________\n",
      "None\n"
     ]
    }
   ],
   "source": [
    "# Define a Keras sequential model\n",
    "model = keras.Sequential()\n",
    "\n",
    "# Define the first dense layer\n",
    "model.add(keras.layers.Dense(16, activation='relu', input_shape=(784,)))\n",
    "\n",
    "# Define the second dense layer\n",
    "model.add(keras.layers.Dense(8, activation = 'relu'))\n",
    "\n",
    "# Define the output layer\n",
    "model.add(keras.layers.Dense(4, activation= 'softmax'))\n",
    "\n",
    "# Print the model architecture\n",
    "print(model.summary())"
   ]
  },
  {
   "cell_type": "markdown",
   "metadata": {},
   "source": [
    "### Compiling a sequential model\n",
    "In this exercise, you will work towards classifying letters from the Sign Language MNIST dataset; however, you will adopt a different network architecture than what you used in the previous exercise. There will be fewer layers, but more nodes. You will also apply dropout to prevent overfitting. Finally, you will compile the model to use the adam optimizer and the categorical_crossentropy loss. You will also use a method in keras to summarize your model's architecture. Note that keras has been imported from tensorflow for you and a sequential keras model has been defined as model.\n",
    "\n",
    "#### Instructions\n",
    "\n",
    "- In the first dense layer, set the number of nodes to 16, the activation to sigmoid, and the input_shape to (784,).\n",
    "- Apply dropout at a rate of 25% to the first layer's output.\n",
    "- Set the output layer to be dense, have 4 nodes, and use a softmax activation function.\n",
    "- Compile the model using an adam optimizer and categorical_crossentropy loss function."
   ]
  },
  {
   "cell_type": "code",
   "execution_count": 46,
   "metadata": {},
   "outputs": [
    {
     "name": "stdout",
     "output_type": "stream",
     "text": [
      "Model: \"sequential_1\"\n",
      "_________________________________________________________________\n",
      "Layer (type)                 Output Shape              Param #   \n",
      "=================================================================\n",
      "dense_12 (Dense)             (None, 16)                12560     \n",
      "_________________________________________________________________\n",
      "dropout_101 (Dropout)        (None, 16)                0         \n",
      "_________________________________________________________________\n",
      "dense_13 (Dense)             (None, 4)                 68        \n",
      "=================================================================\n",
      "Total params: 12,628\n",
      "Trainable params: 12,628\n",
      "Non-trainable params: 0\n",
      "_________________________________________________________________\n",
      "None\n"
     ]
    }
   ],
   "source": [
    "model1 = keras.Sequential()\n",
    "# Define the first dense layer\n",
    "model1.add(keras.layers.Dense(16, activation='sigmoid', input_shape = (784,)))\n",
    "\n",
    "# Apply dropout to the first layer's output\n",
    "model1.add(keras.layers.Dropout(0.25))\n",
    "\n",
    "# Define the output layer\n",
    "model1.add(keras.layers.Dense(4, activation = 'softmax'))\n",
    "\n",
    "# Compile the model\n",
    "model1.compile('adam', loss='categorical_crossentropy')\n",
    "\n",
    "# Print a model summary\n",
    "print(model1.summary())"
   ]
  },
  {
   "cell_type": "markdown",
   "metadata": {},
   "source": [
    "### Defining a multiple input model\n",
    "In some cases, the sequential API will not be sufficiently flexible to accommodate your desired model architecture and you will need to use the functional API instead. If, for instance, you want to train two models with different architectures jointly, you will need to use the functional API to do this. In this exercise, we will see how to do this. We will also use the .summary() method to examine the joint model's architecture.\n",
    "\n",
    "Note that keras has been imported from tensorflow for you. Additionally, the input layers of the first and second models have been defined as m1_inputs and m2_inputs, respectively. Note that the two models have the same architecture, but one of them uses a sigmoid activation in the first layer and the other uses a relu.\n",
    "\n",
    "#### Instructions\n",
    "\n",
    "- Pass model 1's input layer to its first layer and model 1's first layer to its second layer.\n",
    "- Pass model 2's input layer to its first layer and model 2's first layer to its second layer.\n",
    "- Use the add() operation to combine the second layers of model 1 and model 2.\n",
    "- Complete the functional model definition."
   ]
  },
  {
   "cell_type": "code",
   "execution_count": 47,
   "metadata": {},
   "outputs": [],
   "source": [
    "m1_inputs = tf.keras.Input(shape = (784))\n",
    "m2_inputs = tf.keras.Input(shape = (784))"
   ]
  },
  {
   "cell_type": "code",
   "execution_count": 48,
   "metadata": {},
   "outputs": [
    {
     "name": "stdout",
     "output_type": "stream",
     "text": [
      "Model: \"model\"\n",
      "__________________________________________________________________________________________________\n",
      "Layer (type)                    Output Shape         Param #     Connected to                     \n",
      "==================================================================================================\n",
      "input_1 (InputLayer)            [(None, 784)]        0                                            \n",
      "__________________________________________________________________________________________________\n",
      "input_2 (InputLayer)            [(None, 784)]        0                                            \n",
      "__________________________________________________________________________________________________\n",
      "dense_14 (Dense)                (None, 12)           9420        input_1[0][0]                    \n",
      "__________________________________________________________________________________________________\n",
      "dense_16 (Dense)                (None, 12)           9420        input_2[0][0]                    \n",
      "__________________________________________________________________________________________________\n",
      "dense_15 (Dense)                (None, 4)            52          dense_14[0][0]                   \n",
      "__________________________________________________________________________________________________\n",
      "dense_17 (Dense)                (None, 4)            52          dense_16[0][0]                   \n",
      "__________________________________________________________________________________________________\n",
      "add (Add)                       (None, 4)            0           dense_15[0][0]                   \n",
      "                                                                 dense_17[0][0]                   \n",
      "==================================================================================================\n",
      "Total params: 18,944\n",
      "Trainable params: 18,944\n",
      "Non-trainable params: 0\n",
      "__________________________________________________________________________________________________\n",
      "None\n"
     ]
    }
   ],
   "source": [
    "# For model 1, pass the input layer to layer 1 and layer 1 to layer 2\n",
    "m1_layer1 = keras.layers.Dense(12, activation='sigmoid')(m1_inputs)\n",
    "m1_layer2 = keras.layers.Dense(4, activation='softmax')(m1_layer1)\n",
    "\n",
    "# For model 2, pass the input layer to layer 1 and layer 1 to layer 2\n",
    "m2_layer1 = keras.layers.Dense(12, activation='relu')(m2_inputs)\n",
    "m2_layer2 = keras.layers.Dense(4, activation='softmax')(m2_layer1)\n",
    "\n",
    "# Merge model outputs and define a functional model\n",
    "merged = keras.layers.add([m1_layer2, m2_layer2])\n",
    "model = keras.Model(inputs=[m1_inputs, m2_inputs], outputs=merged)\n",
    "\n",
    "# Print a model summary\n",
    "print(model.summary())"
   ]
  },
  {
   "cell_type": "markdown",
   "metadata": {},
   "source": [
    "### Training with Keras\n",
    "In this exercise, we return to our sign language letter classification problem. We have 2000 images of four letters--A, B, C, and D--and we want to classify them with a high level of accuracy. We will complete all parts of the problem, including the model definition, compilation, and training.\n",
    "\n",
    "Note that keras has been imported from tensorflow for you. Additionally, the features are available as sign_language_features and the targets are available as sign_language_labels.\n",
    "\n",
    "#### Instructions\n",
    "\n",
    "- Define a sequential model named model.\n",
    "- Set the output layer to be dense, have 4 nodes, and use a softmax activation function.\n",
    "- Compile the model with the SGD optimizer and categorical_crossentropy loss.\n",
    "- Complete the fitting operation and set the number of epochs to 5."
   ]
  },
  {
   "cell_type": "code",
   "execution_count": 49,
   "metadata": {},
   "outputs": [],
   "source": [
    "mnist_df = pd.read_csv('data/slmnist.csv', header=None)\n",
    "sign_language_features = mnist_df.iloc[:,1:].to_numpy().astype('float32')/255\n",
    "sign_language_labels = pd.get_dummies(mnist_df.iloc[:,0]).to_numpy().astype('float32')"
   ]
  },
  {
   "cell_type": "code",
   "execution_count": 50,
   "metadata": {},
   "outputs": [
    {
     "name": "stdout",
     "output_type": "stream",
     "text": [
      "Epoch 1/5\n",
      "63/63 [==============================] - 0s 2ms/step - loss: 1.2960\n",
      "Epoch 2/5\n",
      "63/63 [==============================] - 0s 2ms/step - loss: 1.0951\n",
      "Epoch 3/5\n",
      "63/63 [==============================] - 0s 2ms/step - loss: 0.8595\n",
      "Epoch 4/5\n",
      "63/63 [==============================] - 0s 3ms/step - loss: 0.6656\n",
      "Epoch 5/5\n",
      "63/63 [==============================] - 0s 4ms/step - loss: 0.5278\n"
     ]
    },
    {
     "data": {
      "text/plain": [
       "<tensorflow.python.keras.callbacks.History at 0x2adc2eff3c8>"
      ]
     },
     "execution_count": 50,
     "metadata": {},
     "output_type": "execute_result"
    }
   ],
   "source": [
    "# Define a sequential model\n",
    "model = keras.Sequential()\n",
    "\n",
    "# Define a hidden layer\n",
    "model.add(keras.layers.Dense(16, activation='relu', input_shape=(784,)))\n",
    "\n",
    "# Define the output layer\n",
    "model.add(keras.layers.Dense(4,activation = 'softmax'))\n",
    "\n",
    "# Compile the model\n",
    "model.compile('SGD', loss='categorical_crossentropy')\n",
    "\n",
    "# Complete the fitting operation\n",
    "model.fit(sign_language_features, sign_language_labels, epochs=5)"
   ]
  },
  {
   "cell_type": "markdown",
   "metadata": {},
   "source": [
    "### Metrics and validation with Keras\n",
    "We trained a model to predict sign language letters in the previous exercise, but it is unclear how successful we were in doing so. In this exercise, we will try to improve upon the interpretability of our results. Since we did not use a validation split, we only observed performance improvements within the training set; however, it is unclear how much of that was due to overfitting. Furthermore, since we did not supply a metric, we only saw decreases in the loss function, which do not have any clear interpretation.\n",
    "\n",
    "Note that keras has been imported for you from tensorflow.\n",
    "\n",
    "#### Instructions\n",
    "\n",
    "- Set the first dense layer to have 32 nodes, use a sigmoid activation function, and have an input shape of (784,).\n",
    "- Use the root mean square propagation optimizer, a categorical crossentropy loss, and the accuracy metric.\n",
    "- Set the number of epochs to 10 and use 10% of the dataset for validation."
   ]
  },
  {
   "cell_type": "code",
   "execution_count": 51,
   "metadata": {},
   "outputs": [
    {
     "name": "stdout",
     "output_type": "stream",
     "text": [
      "Epoch 1/30\n",
      "57/57 [==============================] - 1s 12ms/step - loss: 1.1168 - accuracy: 0.5739 - val_loss: 1.0051 - val_accuracy: 0.5350\n",
      "Epoch 2/30\n",
      "57/57 [==============================] - 0s 4ms/step - loss: 0.7546 - accuracy: 0.8161 - val_loss: 0.6265 - val_accuracy: 0.9700\n",
      "Epoch 3/30\n",
      "57/57 [==============================] - 0s 4ms/step - loss: 0.5752 - accuracy: 0.8867 - val_loss: 0.4949 - val_accuracy: 0.9700\n",
      "Epoch 4/30\n",
      "57/57 [==============================] - 0s 4ms/step - loss: 0.4479 - accuracy: 0.9144 - val_loss: 0.4661 - val_accuracy: 0.8650\n",
      "Epoch 5/30\n",
      "57/57 [==============================] - 0s 4ms/step - loss: 0.3542 - accuracy: 0.9439 - val_loss: 0.4153 - val_accuracy: 0.7800\n",
      "Epoch 6/30\n",
      "57/57 [==============================] - 0s 4ms/step - loss: 0.2885 - accuracy: 0.9567 - val_loss: 0.2534 - val_accuracy: 0.9650\n",
      "Epoch 7/30\n",
      "57/57 [==============================] - 0s 5ms/step - loss: 0.2390 - accuracy: 0.9667 - val_loss: 0.2159 - val_accuracy: 0.9650\n",
      "Epoch 8/30\n",
      "57/57 [==============================] - 0s 4ms/step - loss: 0.1940 - accuracy: 0.9728 - val_loss: 0.1580 - val_accuracy: 0.9800\n",
      "Epoch 9/30\n",
      "57/57 [==============================] - 0s 5ms/step - loss: 0.1661 - accuracy: 0.9806 - val_loss: 0.1922 - val_accuracy: 0.9400\n",
      "Epoch 10/30\n",
      "57/57 [==============================] - 0s 4ms/step - loss: 0.1389 - accuracy: 0.9772 - val_loss: 0.1302 - val_accuracy: 0.9850\n",
      "Epoch 11/30\n",
      "57/57 [==============================] - 0s 4ms/step - loss: 0.1159 - accuracy: 0.9867 - val_loss: 0.1255 - val_accuracy: 0.9900\n",
      "Epoch 12/30\n",
      "57/57 [==============================] - 0s 4ms/step - loss: 0.0981 - accuracy: 0.9861 - val_loss: 0.0769 - val_accuracy: 1.0000\n",
      "Epoch 13/30\n",
      "57/57 [==============================] - 0s 4ms/step - loss: 0.0825 - accuracy: 0.9889 - val_loss: 0.0688 - val_accuracy: 0.9850\n",
      "Epoch 14/30\n",
      "57/57 [==============================] - 0s 4ms/step - loss: 0.0676 - accuracy: 0.9906 - val_loss: 0.0780 - val_accuracy: 0.9950\n",
      "Epoch 15/30\n",
      "57/57 [==============================] - 0s 4ms/step - loss: 0.0661 - accuracy: 0.9883 - val_loss: 0.0572 - val_accuracy: 0.9900\n",
      "Epoch 16/30\n",
      "57/57 [==============================] - 0s 4ms/step - loss: 0.0520 - accuracy: 0.9928 - val_loss: 0.0385 - val_accuracy: 1.0000\n",
      "Epoch 17/30\n",
      "57/57 [==============================] - 0s 3ms/step - loss: 0.0455 - accuracy: 0.9939 - val_loss: 0.0380 - val_accuracy: 1.0000\n",
      "Epoch 18/30\n",
      "57/57 [==============================] - 0s 3ms/step - loss: 0.0421 - accuracy: 0.9922 - val_loss: 0.0324 - val_accuracy: 1.0000\n",
      "Epoch 19/30\n",
      "57/57 [==============================] - 0s 3ms/step - loss: 0.0332 - accuracy: 0.9978 - val_loss: 0.1921 - val_accuracy: 0.9200\n",
      "Epoch 20/30\n",
      "57/57 [==============================] - 0s 4ms/step - loss: 0.0317 - accuracy: 0.9944 - val_loss: 0.0215 - val_accuracy: 1.0000\n",
      "Epoch 21/30\n",
      "57/57 [==============================] - 0s 4ms/step - loss: 0.0252 - accuracy: 0.9967 - val_loss: 0.0276 - val_accuracy: 1.0000\n",
      "Epoch 22/30\n",
      "57/57 [==============================] - 0s 4ms/step - loss: 0.0248 - accuracy: 0.9967 - val_loss: 0.0326 - val_accuracy: 0.9950\n",
      "Epoch 23/30\n",
      "57/57 [==============================] - 0s 3ms/step - loss: 0.0220 - accuracy: 0.9961 - val_loss: 0.0721 - val_accuracy: 0.9750\n",
      "Epoch 24/30\n",
      "57/57 [==============================] - 0s 4ms/step - loss: 0.0173 - accuracy: 0.9972 - val_loss: 0.0120 - val_accuracy: 1.0000\n",
      "Epoch 25/30\n",
      "57/57 [==============================] - 0s 4ms/step - loss: 0.0178 - accuracy: 0.9978 - val_loss: 0.0101 - val_accuracy: 1.0000\n",
      "Epoch 26/30\n",
      "57/57 [==============================] - 0s 4ms/step - loss: 0.0142 - accuracy: 0.9994 - val_loss: 0.0131 - val_accuracy: 1.0000\n",
      "Epoch 27/30\n",
      "57/57 [==============================] - 0s 5ms/step - loss: 0.0152 - accuracy: 0.9972 - val_loss: 0.0123 - val_accuracy: 1.0000\n",
      "Epoch 28/30\n",
      "57/57 [==============================] - 0s 4ms/step - loss: 0.0124 - accuracy: 0.9978 - val_loss: 0.0073 - val_accuracy: 1.0000\n",
      "Epoch 29/30\n",
      "57/57 [==============================] - 0s 3ms/step - loss: 0.0089 - accuracy: 0.9994 - val_loss: 0.0065 - val_accuracy: 1.0000\n",
      "Epoch 30/30\n",
      "57/57 [==============================] - 0s 3ms/step - loss: 0.0127 - accuracy: 0.9967 - val_loss: 0.0052 - val_accuracy: 1.0000\n"
     ]
    },
    {
     "data": {
      "text/plain": [
       "<tensorflow.python.keras.callbacks.History at 0x2adc2154148>"
      ]
     },
     "execution_count": 51,
     "metadata": {},
     "output_type": "execute_result"
    }
   ],
   "source": [
    "# Define sequential model\n",
    "model = keras.Sequential()\n",
    "\n",
    "# Define the first layer\n",
    "model.add(keras.layers.Dense(32, activation = 'sigmoid', input_shape = (784,)))\n",
    "\n",
    "# Add activation function to classifier\n",
    "model.add(keras.layers.Dense(4, activation='softmax'))\n",
    "\n",
    "# Set the optimizer, loss function, and metrics\n",
    "model.compile(optimizer='RMSprop', loss='categorical_crossentropy', metrics=['accuracy'])\n",
    "\n",
    "# Add the number of epochs and the validation split\n",
    "model.fit(sign_language_features, sign_language_labels, epochs=30, validation_split=0.1)"
   ]
  },
  {
   "cell_type": "markdown",
   "metadata": {},
   "source": [
    "### Overfitting detection\n",
    "In this exercise, we'll work with a small subset of the examples from the original sign language letters dataset. A small sample, coupled with a heavily-parameterized model, will generally lead to overfitting. This means that your model will simply memorize the class of each example, rather than identifying features that generalize to many examples.\n",
    "\n",
    "You will detect overfitting by checking whether the validation sample loss is substantially higher than the training sample loss and whether it increases with further training. With a small sample and a high learning rate, the model will struggle to converge on an optimum. You will set a low learning rate for the optimizer, which will make it easier to identify overfitting.\n",
    "\n",
    "Note that keras has been imported from tensorflow.\n",
    "\n",
    "#### Instructions\n",
    "\n",
    "- Define a sequential model in keras named model.\n",
    "- Add a first dense layer with 1024 nodes, a relu activation, and an input shape of (784,).\n",
    "- Set the learning rate to 0.01.\n",
    "- Set the fit() operation to iterate over the full sample 200 times and use 50% of the sample for validation purposes."
   ]
  },
  {
   "cell_type": "code",
   "execution_count": 52,
   "metadata": {},
   "outputs": [
    {
     "name": "stdout",
     "output_type": "stream",
     "text": [
      "Epoch 1/20\n",
      "32/32 [==============================] - 1s 40ms/step - loss: 11.4177 - accuracy: 0.3380 - val_loss: 0.9692 - val_accuracy: 0.7490\n",
      "Epoch 2/20\n",
      "32/32 [==============================] - 1s 37ms/step - loss: 0.7079 - accuracy: 0.7340 - val_loss: 0.6592 - val_accuracy: 0.7150\n",
      "Epoch 3/20\n",
      "32/32 [==============================] - 1s 37ms/step - loss: 0.3290 - accuracy: 0.9060 - val_loss: 0.2579 - val_accuracy: 0.9110ss: 0.3676 - accura\n",
      "Epoch 4/20\n",
      "32/32 [==============================] - 2s 57ms/step - loss: 0.1365 - accuracy: 0.9830 - val_loss: 0.1228 - val_accuracy: 0.9770\n",
      "Epoch 5/20\n",
      "32/32 [==============================] - 2s 47ms/step - loss: 0.0756 - accuracy: 0.9910 - val_loss: 0.0843 - val_accuracy: 0.9860\n",
      "Epoch 6/20\n",
      "32/32 [==============================] - 2s 53ms/step - loss: 0.0497 - accuracy: 0.9960 - val_loss: 0.0498 - val_accuracy: 0.9870\n",
      "Epoch 7/20\n",
      "32/32 [==============================] - 1s 30ms/step - loss: 0.0273 - accuracy: 0.9970 - val_loss: 0.0353 - val_accuracy: 0.9910\n",
      "Epoch 8/20\n",
      "32/32 [==============================] - 1s 30ms/step - loss: 0.0214 - accuracy: 0.9980 - val_loss: 0.0349 - val_accuracy: 0.9930\n",
      "Epoch 9/20\n",
      "32/32 [==============================] - 1s 33ms/step - loss: 0.0282 - accuracy: 0.9960 - val_loss: 0.0321 - val_accuracy: 0.9930\n",
      "Epoch 10/20\n",
      "32/32 [==============================] - 1s 33ms/step - loss: 0.0125 - accuracy: 0.9980 - val_loss: 0.0247 - val_accuracy: 0.9930\n",
      "Epoch 11/20\n",
      "32/32 [==============================] - 1s 33ms/step - loss: 0.0095 - accuracy: 1.0000 - val_loss: 0.0182 - val_accuracy: 0.9920\n",
      "Epoch 12/20\n",
      "32/32 [==============================] - 1s 35ms/step - loss: 0.0088 - accuracy: 0.9990 - val_loss: 0.0168 - val_accuracy: 0.9930\n",
      "Epoch 13/20\n",
      "32/32 [==============================] - 1s 32ms/step - loss: 0.0085 - accuracy: 1.0000 - val_loss: 0.0274 - val_accuracy: 0.9930\n",
      "Epoch 14/20\n",
      "32/32 [==============================] - 1s 29ms/step - loss: 0.0050 - accuracy: 1.0000 - val_loss: 0.0156 - val_accuracy: 0.9930\n",
      "Epoch 15/20\n",
      "32/32 [==============================] - 1s 28ms/step - loss: 0.0059 - accuracy: 1.0000 - val_loss: 0.0162 - val_accuracy: 0.9930\n",
      "Epoch 16/20\n",
      "32/32 [==============================] - 1s 24ms/step - loss: 0.0064 - accuracy: 0.9980 - val_loss: 0.0223 - val_accuracy: 0.9930\n",
      "Epoch 17/20\n",
      "32/32 [==============================] - 1s 26ms/step - loss: 0.0080 - accuracy: 0.9990 - val_loss: 0.0172 - val_accuracy: 0.9930\n",
      "Epoch 18/20\n",
      "32/32 [==============================] - 1s 28ms/step - loss: 0.0046 - accuracy: 1.0000 - val_loss: 0.0080 - val_accuracy: 0.9990\n",
      "Epoch 19/20\n",
      "32/32 [==============================] - 1s 26ms/step - loss: 0.0031 - accuracy: 1.0000 - val_loss: 0.0077 - val_accuracy: 1.0000\n",
      "Epoch 20/20\n",
      "32/32 [==============================] - 1s 29ms/step - loss: 0.0022 - accuracy: 1.0000 - val_loss: 0.0080 - val_accuracy: 0.9990\n"
     ]
    },
    {
     "data": {
      "text/plain": [
       "<tensorflow.python.keras.callbacks.History at 0x2adc3184b08>"
      ]
     },
     "execution_count": 52,
     "metadata": {},
     "output_type": "execute_result"
    }
   ],
   "source": [
    "## Couldn't get ovverfitted\n",
    "# Define sequential model\n",
    "model = keras.Sequential()\n",
    "\n",
    "# Define the first layer\n",
    "model.add(keras.layers.Dense(2048, activation = 'relu', input_shape = (784,)))\n",
    "\n",
    "# Add activation function to classifier\n",
    "model.add(keras.layers.Dense(4, activation='softmax'))\n",
    "\n",
    "# Finish the model compilation\n",
    "model.compile(optimizer=keras.optimizers.Adam(lr=0.01), \n",
    "              loss='categorical_crossentropy', metrics=['accuracy'])\n",
    "\n",
    "# Complete the model fit operation\n",
    "model.fit(sign_language_features, sign_language_labels, epochs=20, validation_split=0.5)\n"
   ]
  },
  {
   "cell_type": "markdown",
   "metadata": {},
   "source": []
  },
  {
   "cell_type": "code",
   "execution_count": 53,
   "metadata": {},
   "outputs": [],
   "source": [
    "from sklearn.model_selection import train_test_split\n",
    "train_features, test_features,train_labels, test_labels = train_test_split(sign_language_features[:200],\n",
    "                                                                           sign_language_labels[:200],\n",
    "                                                                          test_size = 0.5)"
   ]
  },
  {
   "cell_type": "code",
   "execution_count": 54,
   "metadata": {},
   "outputs": [
    {
     "data": {
      "text/plain": [
       "(100, 784)"
      ]
     },
     "execution_count": 54,
     "metadata": {},
     "output_type": "execute_result"
    }
   ],
   "source": [
    "test_features.shape"
   ]
  },
  {
   "cell_type": "code",
   "execution_count": 55,
   "metadata": {},
   "outputs": [
    {
     "data": {
      "text/plain": [
       "<tensorflow.python.keras.callbacks.History at 0x2adc7383d88>"
      ]
     },
     "execution_count": 55,
     "metadata": {},
     "output_type": "execute_result"
    }
   ],
   "source": [
    "small_model = keras.Sequential()\n",
    "small_model.add(keras.layers.Dense(8, activation = 'sigmoid',  input_shape = (784,)))\n",
    "small_model.add(keras.layers.Dense(4, activation='softmax'))\n",
    "small_model.compile(optimizer=keras.optimizers.SGD(lr=0.01), \n",
    "              loss='categorical_crossentropy', metrics=['accuracy'])\n",
    "small_model.fit(train_features, train_labels, epochs=50, verbose=0)\n",
    "\n",
    "large_model = keras.Sequential()\n",
    "large_model.add(keras.layers.Dense(64, activation = 'sigmoid',  input_shape = (784,)))\n",
    "large_model.add(keras.layers.Dense(4, activation='softmax'))\n",
    "large_model.compile(optimizer=keras.optimizers.Adam(lr=0.01), \n",
    "              loss='categorical_crossentropy', metrics=['accuracy'])\n",
    "large_model.fit(train_features, train_labels, epochs=50, verbose=0)\n"
   ]
  },
  {
   "cell_type": "code",
   "execution_count": 56,
   "metadata": {},
   "outputs": [
    {
     "name": "stdout",
     "output_type": "stream",
     "text": [
      "4/4 [==============================] - 0s 2ms/step - loss: 1.2972 - accuracy: 0.4700\n",
      "4/4 [==============================] - 0s 2ms/step - loss: 1.3401 - accuracy: 0.3700\n",
      "4/4 [==============================] - 0s 3ms/step - loss: 0.7830 - accuracy: 0.5600\n",
      "4/4 [==============================] - 0s 3ms/step - loss: 0.8724 - accuracy: 0.4700\n",
      "\n",
      " Small - Train: [1.2972064018249512, 0.4699999988079071], Test: [1.3401468992233276, 0.3700000047683716]\n",
      "Large - Train: [0.7829891443252563, 0.5600000023841858], Test: [0.872368335723877, 0.4699999988079071]\n"
     ]
    }
   ],
   "source": [
    "### Again couldn't make it overfit jajaja\n",
    "# Evaluate the small model using the train data\n",
    "small_train = small_model.evaluate(train_features, train_labels)\n",
    "\n",
    "# Evaluate the small model using the test data\n",
    "small_test = small_model.evaluate(test_features, test_labels)\n",
    "\n",
    "# Evaluate the large model using the train data\n",
    "large_train = large_model.evaluate(train_features, train_labels)\n",
    "\n",
    "# Evaluate the large model using the test data\n",
    "large_test = large_model.evaluate(test_features, test_labels)\n",
    "\n",
    "# Print losses\n",
    "print('\\n Small - Train: {}, Test: {}'.format(small_train, small_test))\n",
    "print('Large - Train: {}, Test: {}'.format(large_train, large_test))"
   ]
  },
  {
   "cell_type": "markdown",
   "metadata": {},
   "source": [
    "### Preparing to train with Estimators\n",
    "For this exercise, we'll return to the King County housing transaction dataset from chapter 2. We will again develop and train a machine learning model to predict house prices; however, this time, we'll do it using the estimator API.\n",
    "\n",
    "Rather than completing everything in one step, we'll break this procedure down into parts. We'll begin by defining the feature columns and loading the data. In the next exercise, we'll define and train a premade estimator. Note that feature_column has been imported for you from tensorflow. Additionally, numpy has been imported as np, and the Kings County housing dataset is available as a pandas DataFrame: housing.\n",
    "\n",
    "#### Instructions\n",
    "\n",
    "- Complete the feature column for bedrooms and add another numeric feature column for bathrooms. Use bedrooms and bathrooms as the keys.\n",
    "- Create a list of the feature columns, feature_list, in the order in which they were defined.\n",
    "- Set labels to be equal to the price column in housing.\n",
    "- Complete the bedrooms entry of the features dictionary and add another entry for bathrooms."
   ]
  },
  {
   "cell_type": "code",
   "execution_count": 57,
   "metadata": {},
   "outputs": [],
   "source": [
    "housing = housing.drop('predictions', axis = 1)"
   ]
  },
  {
   "cell_type": "code",
   "execution_count": 58,
   "metadata": {},
   "outputs": [],
   "source": [
    "# Define feature columns for bedrooms and bathrooms\n",
    "bedrooms = tf.feature_column.numeric_column(\"bedrooms\")\n",
    "bathrooms = tf.feature_column.numeric_column(\"bathrooms\")\n",
    "\n",
    "# Define the list of feature columns\n",
    "feature_list = [bedrooms, bathrooms]\n",
    "\n",
    "def input_fn():\n",
    "\t# Define the labels\n",
    "\tlabels = np.array(housing['price'])\n",
    "\t# Define the features\n",
    "\tfeatures = {'bedrooms':np.array(housing['bedrooms']), \n",
    "                'bathrooms':np.array(housing['bathrooms'])}\n",
    "\treturn features, labels"
   ]
  },
  {
   "cell_type": "markdown",
   "metadata": {},
   "source": [
    "### Defining Estimators\n",
    "In the previous exercise, you defined a list of feature columns, feature_list, and a data input function, input_fn(). In this exercise, you will build on that work by defining an estimator that makes use of input data.\n",
    "\n",
    "#### Instructions\n",
    "- Use a deep neural network regressor with 2 nodes in both the first and second hidden layers and 1 training step.\n",
    "- Modify the code to use a LinearRegressor(), remove the hidden_units, and set the number of steps to 2."
   ]
  },
  {
   "cell_type": "code",
   "execution_count": 59,
   "metadata": {},
   "outputs": [
    {
     "data": {
      "text/plain": [
       "<tensorflow_estimator.python.estimator.canned.linear.LinearRegressorV2 at 0x2adc1b46fc8>"
      ]
     },
     "execution_count": 59,
     "metadata": {},
     "output_type": "execute_result"
    }
   ],
   "source": [
    "from silence_tensorflow import silence_tensorflow\n",
    "silence_tensorflow()\n",
    "# Define the model and set the number of steps\n",
    "model = tf.estimator.DNNRegressor(feature_columns=feature_list, hidden_units=[2,2])\n",
    "model.train(input_fn, steps=1)\n",
    "# Define the model and set the number of steps\n",
    "model = tf.estimator.LinearRegressor(feature_columns=feature_list)\n",
    "model.train(input_fn, steps=2)"
   ]
  },
  {
   "cell_type": "code",
   "execution_count": null,
   "metadata": {},
   "outputs": [],
   "source": []
  }
 ],
 "metadata": {
  "kernelspec": {
   "display_name": "Python 3",
   "language": "python",
   "name": "python3"
  },
  "language_info": {
   "codemirror_mode": {
    "name": "ipython",
    "version": 3
   },
   "file_extension": ".py",
   "mimetype": "text/x-python",
   "name": "python",
   "nbconvert_exporter": "python",
   "pygments_lexer": "ipython3",
   "version": "3.7.7"
  }
 },
 "nbformat": 4,
 "nbformat_minor": 4
}
